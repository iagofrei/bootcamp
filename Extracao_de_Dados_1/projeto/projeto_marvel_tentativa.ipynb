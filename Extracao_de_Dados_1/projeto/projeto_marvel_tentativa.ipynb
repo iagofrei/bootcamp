{
 "cells": [
  {
   "cell_type": "code",
   "execution_count": 11,
   "metadata": {},
   "outputs": [],
   "source": [
    "import json\n",
    "import hashlib\n",
    "import os\n",
    "import random\n",
    "import requests\n",
    "import time\n",
    "\n",
    "from datetime import datetime"
   ]
  },
  {
   "cell_type": "code",
   "execution_count": 12,
   "metadata": {},
   "outputs": [],
   "source": [
    "# Declarando as variaveis\n",
    "datetime_pattern = '%Y-%m-%d %H:%M:%S'\n",
    "payload_path = \"logs/received/instructions/\"\n",
    "dir_marvel_get = \"logs/get_marvel\"\n",
    "dir_marvel_get_error = \"logs/error_get_marvel\"\n",
    "post_professor = \"logs/post_professor\"\n",
    "instructions_ok = \"logs/instructions_ok\"\n",
    "instructions_not_ok = \"logs/instructions_not_ok\"\n",
    "url_marvel_base = \"http://gateway.marvel.com/v1/public\"\n",
    "post_url_professor = \"\"\n",
    "os.makedirs(dir_marvel_get, exist_ok=True)\n",
    "os.makedirs(dir_marvel_get_error, exist_ok=True)\n",
    "os.makedirs(post_professor, exist_ok=True)\n",
    "os.makedirs(instructions_ok, exist_ok=True)\n",
    "os.makedirs(instructions_not_ok, exist_ok=True)"
   ]
  },
  {
   "cell_type": "code",
   "execution_count": 13,
   "metadata": {},
   "outputs": [],
   "source": [
    "# Escrever arquivos\n",
    "\n",
    "def escrever_arquivos(data_, path, id):\n",
    "    with open(f\"{path}/{id}.json\", \"w\") as file:\n",
    "        file.write(json.dumps(data_))"
   ]
  },
  {
   "cell_type": "code",
   "execution_count": 14,
   "metadata": {},
   "outputs": [],
   "source": [
    "# Ler os arquivos\n",
    "def ler_arquivos(path):\n",
    "    payload_list = []\n",
    "\n",
    "    file_list = os.listdir(path)\n",
    "\n",
    "    for file_ in file_list:\n",
    "        with open(f\"{path}/{file_}\") as file:\n",
    "            payload_list.append(json.load(file))\n",
    "    return payload_list"
   ]
  },
  {
   "cell_type": "code",
   "execution_count": 15,
   "metadata": {},
   "outputs": [],
   "source": [
    "# Criar o hash md5 para a chamada de api da marvel\n",
    "def create_hash(timestamp, private_key, public_key):\n",
    "\n",
    "    str_to_hash = str(timestamp) + str(private_key) + str(public_key)\n",
    "    hash_md5 = hashlib.md5(str_to_hash.encode())\n",
    "    return hash_md5.hexdigest()"
   ]
  },
  {
   "cell_type": "code",
   "execution_count": 16,
   "metadata": {},
   "outputs": [],
   "source": [
    "# Ler o arquivo de credenciais da marvel\n",
    "with open(\"api.json\") as file:\n",
    "    credentials = json.load(file)\n",
    "\n",
    "public_key_ = credentials['marvel']['public']\n",
    "private_key_ = credentials['marvel']['private']\n"
   ]
  },
  {
   "cell_type": "code",
   "execution_count": 17,
   "metadata": {},
   "outputs": [
    {
     "name": "stdout",
     "output_type": "stream",
     "text": [
      "Esse não é uma instrução: {'type': 'truction', 'body': {'instruction_id': 463, 'entity_name': 'events', 'entity_id': 277, 'timestamp': '2023-04-10 11:33:35'}}\n"
     ]
    }
   ],
   "source": [
    "# Carrega uma lista contendo todas as payloads em conformidade recebidas pelo server\n",
    "payload_list = ler_arquivos(payload_path)\n",
    "\n",
    "for payload in payload_list:\n",
    "    orientacao = \"instruction\"\n",
    "    orientacao_recebida = f\"{payload['type']}\"\n",
    "    id_ = f\"{payload['body']['entity_name']}_{payload['body']['instruction_id']}_{payload['body']['entity_id']}_{datetime.now().strftime('%Y%m%d-%H%M%S-%f')}\"\n",
    "\n",
    "    if orientacao_recebida == orientacao:\n",
    "        escrever_arquivos(data_=payload, path=instructions_ok, id=id_)\n",
    "    else:\n",
    "        print(f\"Esse não é uma instrução: {payload}\")\n",
    "        escrever_arquivos(data_=payload, path=instructions_not_ok, id=id_)"
   ]
  },
  {
   "cell_type": "code",
   "execution_count": null,
   "metadata": {},
   "outputs": [],
   "source": [
    "# Carrega uma lista contendo todas as payloads em conformidade recebidas pelo server\n",
    "payload_list = ler_arquivos(instructions_ok)\n",
    "\n",
    "# Realiza um loop para retornar todos os dados brutos da API da Marvel, para cada requisição encontrada na lista\n",
    "for payload in payload_list:\n",
    "    request_url = f\"{url_marvel_base}/{payload['body']['entity_name']}/{payload['body']['entity_id']}\"\n",
    "    ts_ = datetime.now().timestamp()\n",
    "\n",
    "    params_ = {\n",
    "        \"ts\": ts_,\n",
    "        \"apikey\": public_key_,\n",
    "        \"hash\": create_hash(timestamp=ts_, private_key=private_key_, public_key=public_key_)\n",
    "    }\n",
    "\n",
    "    response = requests.get(url=request_url, params=params_)\n",
    "    response_ = response.json()\n",
    "    id_ = f\"{payload['body']['entity_name']}_{payload['body']['instruction_id']}_{payload['body']['entity_id']}_{datetime.now().strftime('%Y%m%d-%H%M%S-%f')}\"\n",
    "\n",
    "    if response.status_code == 200:\n",
    "        escrever_arquivos(data_=response_, path=dir_marvel_get, id=id_)\n",
    "    else:\n",
    "        print(f\"Deu erro na chamada da api da Marvel: {payload}\")\n",
    "        data_dict_ = {\n",
    "            \"instruction_id\": payload['body']['instruction_id'],\n",
    "            \"entity_name\": payload['body']['entity_name'],\n",
    "            \"entity_id\": payload['body']['entity_id'],\n",
    "            \"error\": response_\n",
    "        }\n",
    "        escrever_arquivos(data_=data_dict_, path=dir_marvel_get_error, id=id_)\n",
    "\n",
    "    time.sleep(0.5)"
   ]
  },
  {
   "attachments": {},
   "cell_type": "markdown",
   "metadata": {},
   "source": [
    "### A partir daqui eu acabei pegando os dados manuais pois não consegui tempo para continuar, tive alguns compromissos no feriado "
   ]
  }
 ],
 "metadata": {
  "kernelspec": {
   "display_name": "Python 3",
   "language": "python",
   "name": "python3"
  },
  "language_info": {
   "codemirror_mode": {
    "name": "ipython",
    "version": 3
   },
   "file_extension": ".py",
   "mimetype": "text/x-python",
   "name": "python",
   "nbconvert_exporter": "python",
   "pygments_lexer": "ipython3",
   "version": "3.10.10"
  },
  "orig_nbformat": 4
 },
 "nbformat": 4,
 "nbformat_minor": 2
}
