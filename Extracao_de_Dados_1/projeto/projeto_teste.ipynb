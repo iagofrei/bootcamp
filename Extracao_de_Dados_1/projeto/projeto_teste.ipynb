{
 "cells": [
  {
   "cell_type": "code",
   "execution_count": 1,
   "metadata": {},
   "outputs": [],
   "source": [
    "import requests\n",
    "import json\n",
    "from datetime import datetime\n",
    "import random"
   ]
  },
  {
   "cell_type": "code",
   "execution_count": 6,
   "metadata": {},
   "outputs": [],
   "source": [
    "url_ngrok_furlan = 'https://29ac-2804-14c-38-808e-d05d-143f-703e-760f.ngrok-free.app'\n",
    "url_ngrok_iago_5000 = 'https://f62c-2804-7f0-ba00-102d-38d9-7ed8-5676-d32c.sa.ngrok.io'\n",
    "url_ngrok_iago_5001 = 'https://2710-2804-7f0-ba00-102d-89b6-27ca-430a-6f0.ngrok-free.app'\n",
    "url_local = 'http://127.0.0.1:5000/webhook'\n"
   ]
  },
  {
   "attachments": {},
   "cell_type": "markdown",
   "metadata": {},
   "source": [
    "```Python\n",
    "mensagem_ref  = {\n",
    "  'nome': seu nome no formato str\n",
    "  'url_5001': a url publica que aponta para a porta 5001 no formato str\n",
    "  'timestamp': o timestamp do momento do envio no formato '%Y-%m-%d %H:%M:%S' str\n",
    "  'mensagem': uma mensagem para o professor no formato str (opcional)\n",
    "}\n",
    "\n",
    " mensagem_ref = {\n",
    "      'intruction_id': int\n",
    "      'entity_name': str nome do endpoint ao qual será feita a request\n",
    "      'entity_id': int id da entitidade que você deverá encontrar\n",
    "      'timestamp': str '%Y-%m-%d %H:%M:%S' horário do envio da instrução    \n",
    "  }\n",
    "```"
   ]
  },
  {
   "cell_type": "code",
   "execution_count": 16,
   "metadata": {},
   "outputs": [
    {
     "name": "stdout",
     "output_type": "stream",
     "text": [
      "date and time = 2023-04-10 10:45:06\n"
     ]
    },
    {
     "data": {
      "text/plain": [
       "{'type': 123,\n",
       " 'body': {'instruction_id': 12345678,\n",
       "  'entity_name': 'characters',\n",
       "  'entity_id': 1234793812039812639018263098126534816708123086230816730981269381,\n",
       "  'timestamp': '2023-04-10 10:45:06'}}"
      ]
     },
     "execution_count": 16,
     "metadata": {},
     "output_type": "execute_result"
    }
   ],
   "source": [
    "date = datetime.now()\n",
    "dt_string = date.strftime(\"%Y-%m-%d %H:%M:%S\")\n",
    "print(\"date and time =\", dt_string)\n",
    "\n",
    "message_ref = {\n",
    "    'type': 123,\n",
    "    'body': {\n",
    "        'instruction_id': 12345678,\n",
    "        'entity_name': 'characters',\n",
    "        'entity_id': 1234793812039812639018263098126534816708123086230816730981269381,\n",
    "        # \"timestamp\": \"1\"\n",
    "        \"timestamp\": str(dt_string)\n",
    "    }\n",
    "}\n",
    "\n",
    "\n",
    "message_ref"
   ]
  },
  {
   "cell_type": "code",
   "execution_count": 17,
   "metadata": {},
   "outputs": [
    {
     "data": {
      "text/plain": [
       "<Response [200]>"
      ]
     },
     "execution_count": 17,
     "metadata": {},
     "output_type": "execute_result"
    }
   ],
   "source": [
    "# current_dateTime = datetime.now()\n",
    "# current_dateTime = current_dateTime.strftime(\"%Y-%m-%d %H:%M:%S\")\n",
    "# print('DateTime String:', current_dateTime)\n",
    "\n",
    "\n",
    "response = requests.post(url_ngrok_iago_5001, json=message_ref)\n",
    "\n",
    "response"
   ]
  },
  {
   "cell_type": "code",
   "execution_count": 4,
   "metadata": {},
   "outputs": [
    {
     "name": "stdout",
     "output_type": "stream",
     "text": [
      "date and time = 2023-04-10 10:27:41\n"
     ]
    },
    {
     "data": {
      "text/plain": [
       "{'type': 'connection',\n",
       " 'body': {'nome': 'Iago Freitas',\n",
       "  'url_5001': 'https://2710-2804-7f0-ba00-102d-89b6-27ca-430a-6f0.ngrok-free.app',\n",
       "  'timestamp': '2023-04-10 10:27:41',\n",
       "  'mensagem': 'Teste de envio'}}"
      ]
     },
     "execution_count": 4,
     "metadata": {},
     "output_type": "execute_result"
    }
   ],
   "source": [
    "date_2 = datetime.now()\n",
    "dt_string_2 = date_2.strftime(\"%Y-%m-%d %H:%M:%S\")\n",
    "print(\"date and time =\", dt_string_2)\n",
    "\n",
    "\n",
    "message_ref_2  = {\n",
    "    'type': 'connection',\n",
    "    'body': {\n",
    "        'nome': \"Iago Freitas\",\n",
    "        'url_5001': str(url_ngrok_iago_5001),\n",
    "        'timestamp': str(dt_string_2),\n",
    "        'mensagem': \"Teste de envio\"\n",
    "    }\n",
    "}\n",
    "\n",
    "\n",
    "message_ref_2"
   ]
  },
  {
   "cell_type": "code",
   "execution_count": 7,
   "metadata": {},
   "outputs": [
    {
     "name": "stdout",
     "output_type": "stream",
     "text": [
      "<Response [200]>\n",
      "b'all right'\n"
     ]
    }
   ],
   "source": [
    "response2 = requests.post(url_ngrok_furlan, json=message_ref_2)\n",
    "\n",
    "response2\n",
    "print(response2)\n",
    "print(response2.content)"
   ]
  },
  {
   "cell_type": "code",
   "execution_count": 44,
   "metadata": {},
   "outputs": [
    {
     "data": {
      "text/plain": [
       "{'type': 'answers',\n",
       " 'body': {'instruction_id': 164,\n",
       "  'nome_estudante': 'Iago Freitas',\n",
       "  'timestamp': '2023-04-10 11:35:17',\n",
       "  'mensagem': 'Resposta do exercicio, fiz na mao',\n",
       "  'resultado': {'title': 'Age of Apocalypse',\n",
       "   'start_date': '1995-03-01 00:00:00',\n",
       "   'creators': 111}}}"
      ]
     },
     "execution_count": 44,
     "metadata": {},
     "output_type": "execute_result"
    }
   ],
   "source": [
    "dt_string_3 = datetime.now().strftime(\"%Y-%m-%d %H:%M:%S\")\n",
    "\n",
    "message_ref_3 = {\n",
    "    \"type\": \"answers\", \n",
    "    \"body\": {\n",
    "        \"instruction_id\": 164, \n",
    "        \"nome_estudante\": \"Iago Freitas\", \n",
    "        \"timestamp\": str(dt_string_3), \n",
    "        \"mensagem\": \"Resposta do exercicio, fiz na mao\", \n",
    "        \"resultado\": {\n",
    "            \"title\": \"Age of Apocalypse\", \n",
    "            \"start_date\": \"1995-03-01 00:00:00\", \n",
    "            \"creators\": 111\n",
    "        }\n",
    "    }\n",
    "}\n",
    "\n",
    "message_ref_3\n"
   ]
  },
  {
   "cell_type": "code",
   "execution_count": 45,
   "metadata": {},
   "outputs": [
    {
     "name": "stdout",
     "output_type": "stream",
     "text": [
      "<Response [200]>\n",
      "b'all right'\n"
     ]
    }
   ],
   "source": [
    "response3 = requests.post(url_ngrok_furlan, json=message_ref_3)\n",
    "\n",
    "response3\n",
    "print(response3)\n",
    "print(response3.content)"
   ]
  }
 ],
 "metadata": {
  "kernelspec": {
   "display_name": "Python 3",
   "language": "python",
   "name": "python3"
  },
  "language_info": {
   "codemirror_mode": {
    "name": "ipython",
    "version": 3
   },
   "file_extension": ".py",
   "mimetype": "text/x-python",
   "name": "python",
   "nbconvert_exporter": "python",
   "pygments_lexer": "ipython3",
   "version": "3.10.10"
  },
  "orig_nbformat": 4
 },
 "nbformat": 4,
 "nbformat_minor": 2
}
