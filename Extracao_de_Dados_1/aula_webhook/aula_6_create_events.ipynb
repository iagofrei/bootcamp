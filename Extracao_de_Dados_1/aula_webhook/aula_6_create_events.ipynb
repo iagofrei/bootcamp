{
 "cells": [
  {
   "cell_type": "code",
   "execution_count": 40,
   "metadata": {},
   "outputs": [],
   "source": [
    "import requests\n",
    "import json\n",
    "from datetime import datetime\n",
    "import random"
   ]
  },
  {
   "cell_type": "code",
   "execution_count": 41,
   "metadata": {},
   "outputs": [],
   "source": [
    "# url = 'https://webhook.site/bb6a725e-8b51-4fe5-9c94-e214bb51c761'\n",
    "# message = {\n",
    "#     'nome': 'Iago',\n",
    "#     'title': 'Local post',\n",
    "#     'body': 'Teste local'\n",
    "# }\n",
    "\n",
    "# response = requests.post(url, json=message)\n",
    "\n",
    "# response"
   ]
  },
  {
   "cell_type": "code",
   "execution_count": 42,
   "metadata": {},
   "outputs": [],
   "source": [
    "# url = 'https://webhook.site/05c8875e-da19-4018-8c77-bbf574d5b7a9'\n",
    "# message = {\n",
    "#     'nome': 'Iago',\n",
    "#     'title': 'Local post',\n",
    "#     'body': 'Teste local'\n",
    "# }\n",
    "\n",
    "# response = requests.post(url, json=message)\n",
    "\n",
    "# response"
   ]
  },
  {
   "cell_type": "code",
   "execution_count": 43,
   "metadata": {},
   "outputs": [],
   "source": [
    "# url = 'https://webhook.site/05c8875e-da19-4018-8c77-bbf574d5b7a9'\n",
    "\n",
    "# url_local = 'http://127.0.0.1:5000/webhook'\n",
    "\n",
    "# message = {\n",
    "#     'nome': 'Iago',\n",
    "#     'title': 'Local post',\n",
    "#     'body': 'Teste usando a url local'\n",
    "# }\n",
    "\n",
    "# response = requests.post(url_local, json=message)\n",
    "\n",
    "# response"
   ]
  },
  {
   "attachments": {},
   "cell_type": "markdown",
   "metadata": {},
   "source": [
    "```Python\n",
    "message = {\n",
    "    'name': string ,\n",
    "    'title': string ,\n",
    "    'body': string ,\n",
    "    'date': string (yyyy-mm-dd HH:MM:SS) ,\n",
    "    'numero': integer\n",
    "}\n",
    "```"
   ]
  },
  {
   "cell_type": "code",
   "execution_count": 44,
   "metadata": {},
   "outputs": [],
   "source": [
    "# date = datetime.now()\n",
    "# date"
   ]
  },
  {
   "cell_type": "code",
   "execution_count": 45,
   "metadata": {},
   "outputs": [],
   "source": [
    "# dt_string = date.strftime(\"%Y-%m-%d %H:%M:%S\")\n",
    "# print(\"date and time =\", dt_string)"
   ]
  },
  {
   "cell_type": "code",
   "execution_count": 46,
   "metadata": {},
   "outputs": [],
   "source": [
    "# date = datetime.now()\n",
    "# dt_string = date.strftime(\"%Y-%m-%d %H:%M:%S\")\n",
    "# print(\"date and time =\", dt_string)\n",
    "\n",
    "# message_new = {\n",
    "#     'name': 'Iago',\n",
    "#     'title': 'Local post',\n",
    "#     'body': 'Teste usando a url local',\n",
    "#     'date': str(dt_string),\n",
    "#     'numero': random.randint(0,9999999)\n",
    "# }"
   ]
  },
  {
   "cell_type": "code",
   "execution_count": 47,
   "metadata": {},
   "outputs": [],
   "source": [
    "# message_new"
   ]
  },
  {
   "cell_type": "code",
   "execution_count": 53,
   "metadata": {},
   "outputs": [
    {
     "name": "stdout",
     "output_type": "stream",
     "text": [
      "date and time = 2023-04-10 19:55:51\n"
     ]
    },
    {
     "data": {
      "text/plain": [
       "<Response [200]>"
      ]
     },
     "execution_count": 53,
     "metadata": {},
     "output_type": "execute_result"
    }
   ],
   "source": [
    "# url = 'https://webhook.site/05c8875e-da19-4018-8c77-bbf574d5b7a9'\n",
    "\n",
    "date = datetime.now()\n",
    "dt_string = date.strftime(\"%Y-%m-%d %H:%M:%S\")\n",
    "print(\"date and time =\", dt_string)\n",
    "\n",
    "message_new = {\n",
    "    'name': 'Iago',\n",
    "    'title': 'Local post',\n",
    "    'body': 'Teste usando a url local',\n",
    "    'date': str(dt_string),\n",
    "    # 'date': 123,\n",
    "    'numero': random.randint(0,9999999)\n",
    "}\n",
    "\n",
    "\n",
    "\n",
    "url_local = 'http://127.0.0.1:5000/webhook'\n",
    "\n",
    "response = requests.post(url_local, json=message_new)\n",
    "\n",
    "response"
   ]
  }
 ],
 "metadata": {
  "kernelspec": {
   "display_name": "Python 3",
   "language": "python",
   "name": "python3"
  },
  "language_info": {
   "codemirror_mode": {
    "name": "ipython",
    "version": 3
   },
   "file_extension": ".py",
   "mimetype": "text/x-python",
   "name": "python",
   "nbconvert_exporter": "python",
   "pygments_lexer": "ipython3",
   "version": "3.10.10"
  },
  "orig_nbformat": 4
 },
 "nbformat": 4,
 "nbformat_minor": 2
}
