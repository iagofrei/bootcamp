{
 "cells": [
  {
   "attachments": {},
   "cell_type": "markdown",
   "metadata": {},
   "source": [
    "# RabbitMQ"
   ]
  },
  {
   "attachments": {},
   "cell_type": "markdown",
   "metadata": {},
   "source": [
    "RabbitMQ é um intermediador de mensagens.  \n",
    "1. Recebe e encaminha mensagens.  \n",
    "\n",
    "Analogia com os correios: \n",
    "* Quando postamos uma carta, sabemos que a carta será entregue ao destinatário.\n",
    "* Não nos preocupamos com o processo de entrega!\n",
    "\n",
    "RabbitMQ é a caixa de correios, a agência e o carteiro!"
   ]
  },
  {
   "cell_type": "code",
   "execution_count": null,
   "metadata": {},
   "outputs": [],
   "source": []
  },
  {
   "attachments": {},
   "cell_type": "markdown",
   "metadata": {},
   "source": [
    "## Componentes"
   ]
  },
  {
   "attachments": {},
   "cell_type": "markdown",
   "metadata": {},
   "source": [
    "### Producer (produtor)"
   ]
  },
  {
   "attachments": {},
   "cell_type": "markdown",
   "metadata": {},
   "source": [
    "Programa que **envia** as mensagens.  "
   ]
  },
  {
   "cell_type": "markdown",
   "metadata": {},
   "source": [
    "![producer](https://s3-sa-east-1.amazonaws.com/lcpi/05c7260f-c02b-4d72-b748-d65d2aa9f0c6.png)"
   ]
  },
  {
   "attachments": {},
   "cell_type": "markdown",
   "metadata": {},
   "source": [
    "### Queue (fila)"
   ]
  },
  {
   "attachments": {},
   "cell_type": "markdown",
   "metadata": {},
   "source": [
    "* Equivalente à agência dos correios. \n",
    "* Mensagens só podem ser armazenadas dentro de filas.\n",
    "* As filas são limitadas apenas pelas capacidades de disco e memória do servidor.\n",
    "* Muitos produtores podem mandar mensagens para a mesma fila.\n",
    "* Muitos consumidores podem consumir da mesma fila."
   ]
  },
  {
   "attachments": {},
   "cell_type": "markdown",
   "metadata": {},
   "source": [
    "![queue](https://s3-sa-east-1.amazonaws.com/lcpi/c49ad77a-1ca8-42aa-a2ed-258c1a6086f2.png)"
   ]
  },
  {
   "attachments": {},
   "cell_type": "markdown",
   "metadata": {},
   "source": [
    "### Consumer (consumidor)"
   ]
  },
  {
   "attachments": {},
   "cell_type": "markdown",
   "metadata": {},
   "source": [
    "Programa que **espera para receber** as mensagens."
   ]
  },
  {
   "attachments": {},
   "cell_type": "markdown",
   "metadata": {},
   "source": [
    "![consumer](https://s3-sa-east-1.amazonaws.com/lcpi/f274a1ff-0433-4ade-a33d-27c2da4e511d.png)"
   ]
  },
  {
   "cell_type": "code",
   "execution_count": null,
   "metadata": {},
   "outputs": [],
   "source": []
  },
  {
   "attachments": {},
   "cell_type": "markdown",
   "metadata": {},
   "source": [
    "### ATENÇÃO\n",
    "\n",
    "1. Producer, broker e consumer não precisam residir no mesmo servidor. \n",
    "2. Na prática, eles geralmente residem em servidores diferentes.\n",
    "3. Uma aplicação pode funcionar como produtor e consumidor."
   ]
  },
  {
   "cell_type": "markdown",
   "metadata": {},
   "source": []
  },
  {
   "cell_type": "code",
   "execution_count": null,
   "metadata": {},
   "outputs": [],
   "source": []
  },
  {
   "attachments": {},
   "cell_type": "markdown",
   "metadata": {},
   "source": [
    "# Hello, RabbitMQ\n",
    "\n",
    "Nossa primeira mensagem criada e envidada! "
   ]
  },
  {
   "attachments": {},
   "cell_type": "markdown",
   "metadata": {},
   "source": [
    "## Instalar o RabbitMQ-server"
   ]
  },
  {
   "cell_type": "markdown",
   "metadata": {},
   "source": [
    "```bash\n",
    "sudo apt-get install rabbitmq-server\n",
    "```"
   ]
  },
  {
   "attachments": {},
   "cell_type": "markdown",
   "metadata": {},
   "source": [
    "### Inicializar o servidor"
   ]
  },
  {
   "attachments": {},
   "cell_type": "markdown",
   "metadata": {},
   "source": [
    "```bash\n",
    "sudo service rabbitmq-server start\n",
    "```"
   ]
  },
  {
   "cell_type": "markdown",
   "metadata": {},
   "source": [
    "### Python library: pika "
   ]
  },
  {
   "cell_type": "markdown",
   "metadata": {},
   "source": [
    "```bash\n",
    "    pip install pika --upgrade\n",
    "```"
   ]
  },
  {
   "cell_type": "code",
   "execution_count": null,
   "metadata": {},
   "outputs": [],
   "source": []
  },
  {
   "cell_type": "markdown",
   "metadata": {},
   "source": [
    "## Enviando mensagens"
   ]
  },
  {
   "attachments": {},
   "cell_type": "markdown",
   "metadata": {},
   "source": [
    "![send_message](https://s3-sa-east-1.amazonaws.com/lcpi/cd48acd0-1db8-46cd-b769-8765dabfce00.png)"
   ]
  },
  {
   "attachments": {},
   "cell_type": "markdown",
   "metadata": {},
   "source": [
    "1. Estabelecendo uma conexão com o servidor RabbitMQ"
   ]
  },
  {
   "attachments": {},
   "cell_type": "markdown",
   "metadata": {},
   "source": [
    "```python\n",
    "import pika\n",
    "\n",
    "connection = pika.BlockingConnection(pika.ConnectionParameters('localhost'))\n",
    "channel = connection.channel()\n",
    "```\n"
   ]
  },
  {
   "attachments": {},
   "cell_type": "markdown",
   "metadata": {},
   "source": [
    "2. Criando a fila"
   ]
  },
  {
   "attachments": {},
   "cell_type": "markdown",
   "metadata": {},
   "source": [
    "```python\n",
    "channel.queue_declare(queue='hello')\n",
    "```\n"
   ]
  },
  {
   "attachments": {},
   "cell_type": "markdown",
   "metadata": {},
   "source": [
    "3. Publicando a mensagem"
   ]
  },
  {
   "attachments": {},
   "cell_type": "markdown",
   "metadata": {},
   "source": [
    "```python\n",
    "channel.basic_publish(exchange='',\n",
    "                      routing_key='hello',\n",
    "                      body='Hello World!')\n",
    "print(\" [x] Sent 'Hello RabbitMQ!'\")\n",
    "```"
   ]
  },
  {
   "attachments": {},
   "cell_type": "markdown",
   "metadata": {},
   "source": [
    "4. Garantindo a entrega para o servidor"
   ]
  },
  {
   "attachments": {},
   "cell_type": "markdown",
   "metadata": {},
   "source": [
    "```python\n",
    "connection.close()\n",
    "```"
   ]
  },
  {
   "cell_type": "code",
   "execution_count": null,
   "metadata": {},
   "outputs": [],
   "source": []
  },
  {
   "attachments": {},
   "cell_type": "markdown",
   "metadata": {},
   "source": [
    "### Recebendo mensagens"
   ]
  },
  {
   "attachments": {},
   "cell_type": "markdown",
   "metadata": {},
   "source": [
    "![receiving](https://s3-sa-east-1.amazonaws.com/lcpi/bb976c70-c86a-4048-92b0-8ac3d182ee80.png)"
   ]
  },
  {
   "attachments": {},
   "cell_type": "markdown",
   "metadata": {},
   "source": [
    "1. Assegurando que a fila existe"
   ]
  },
  {
   "attachments": {},
   "cell_type": "markdown",
   "metadata": {},
   "source": [
    "```python\n",
    "channel.queue_declare(queue='hello')\n",
    "```"
   ]
  },
  {
   "attachments": {},
   "cell_type": "markdown",
   "metadata": {},
   "source": [
    "2. Recebendo mensagens: função *callback*  \n",
    "   \n",
    "   *Passo mais complexo, abstraído pela biblioteca **pika***.\n",
    "\n"
   ]
  },
  {
   "attachments": {},
   "cell_type": "markdown",
   "metadata": {},
   "source": [
    "```python\n",
    "def callback(ch, method, properties, body):\n",
    "    print(\" [x] Received %r\" % body)\n",
    "```"
   ]
  },
  {
   "attachments": {},
   "cell_type": "markdown",
   "metadata": {},
   "source": [
    "3. Indicar ao servidor qual função deve receber mensagens de uma fila específica"
   ]
  },
  {
   "attachments": {},
   "cell_type": "markdown",
   "metadata": {},
   "source": [
    "```python\n",
    "channel.basic_consume(queue='hello',\n",
    "                      auto_ack=True,\n",
    "                      on_message_callback=callback)\n",
    "```"
   ]
  },
  {
   "attachments": {},
   "cell_type": "markdown",
   "metadata": {},
   "source": [
    "4. Iniciar o processo de *espera para consumo*.\n",
    "\n",
    "Loop infinito!"
   ]
  },
  {
   "attachments": {},
   "cell_type": "markdown",
   "metadata": {},
   "source": [
    "```python\n",
    "print(' [*] Waiting for messages. To exit press CTRL+C')\n",
    "channel.start_consuming()\n",
    "```"
   ]
  },
  {
   "attachments": {},
   "cell_type": "markdown",
   "metadata": {},
   "source": [
    "5. Encerrar o loop"
   ]
  },
  {
   "attachments": {},
   "cell_type": "markdown",
   "metadata": {},
   "source": [
    "```python\n",
    "if __name__ == '__main__':\n",
    "    try:\n",
    "        main()\n",
    "    except KeyboardInterrupt:\n",
    "        print('Interrupted')\n",
    "        try:\n",
    "            sys.exit(0)\n",
    "        except SystemExit:\n",
    "            os._exit(0)\n",
    "```"
   ]
  },
  {
   "cell_type": "markdown",
   "metadata": {},
   "source": []
  },
  {
   "cell_type": "markdown",
   "metadata": {},
   "source": [
    "# Tudo junto"
   ]
  },
  {
   "attachments": {},
   "cell_type": "markdown",
   "metadata": {},
   "source": [
    "![tudo_junto](https://s3-sa-east-1.amazonaws.com/lcpi/8db6cb00-42bf-41a2-b5b9-e8c0a2116bb0.png)"
   ]
  },
  {
   "attachments": {},
   "cell_type": "markdown",
   "metadata": {},
   "source": [
    "`01_producer.py`\n",
    "\n",
    "```python\n",
    "import pika\n",
    "\n",
    "# 1. Estabelecendo uma conexão com o servidor RabbitMQ\n",
    "connection = pika.BlockingConnection(\n",
    "    pika.ConnectionParameters('localhost')\n",
    ")\n",
    "\n",
    "channel = connection.channel()\n",
    "\n",
    "# 2. Criando a fila\n",
    "channel.queue_declare(queue='queue_hello')\n",
    "\n",
    "# 3. Publicando a mensagem\n",
    "channel.basic_publish(exchange='',\n",
    "                      routing_key='queue_hello',\n",
    "                      body='Hello RabbitMQ 06!')\n",
    "\n",
    "print(\" [x] Sent 'Hello RabbitMQ!'\")\n",
    "\n",
    "# 4. Garantindo a entrega para o servidor\n",
    "connection.close()\n",
    "\n",
    "```"
   ]
  },
  {
   "cell_type": "code",
   "execution_count": null,
   "metadata": {},
   "outputs": [],
   "source": []
  },
  {
   "attachments": {},
   "cell_type": "markdown",
   "metadata": {},
   "source": [
    "`01_consumer.py`\n",
    "\n",
    "```python\n",
    "import pika\n",
    "\n",
    "# 1. Estabelecendo uma conexão com o servidor RabbitMQ\n",
    "connection = pika.BlockingConnection(\n",
    "    pika.ConnectionParameters('localhost')\n",
    ")\n",
    "\n",
    "channel = connection.channel()\n",
    "\n",
    "queue_name = 'queue_hello'\n",
    "\n",
    "# 2. Criando a fila\n",
    "channel.queue_declare(queue=queue_name)\n",
    "\n",
    "def callback(ch, method, properties, body):\n",
    "    print(f\" [x] Received {body}.\")\n",
    "\n",
    "# 3. Indicar ao servidor qual função deve receber mensagens de uma fila específica\n",
    "channel.basic_consume(queue=queue_name,\n",
    "                      auto_ack=True,\n",
    "                      on_message_callback=callback\n",
    "                      )\n",
    "\n",
    "#4. Iniciar o processo de *espera para consumo*.\n",
    "print(' [*] Waiting for messages. To exit press CTRL+C')\n",
    "channel.start_consuming()\n",
    "\n",
    "```"
   ]
  }
 ],
 "metadata": {
  "kernelspec": {
   "display_name": "Python 3",
   "language": "python",
   "name": "python3"
  },
  "language_info": {
   "codemirror_mode": {
    "name": "ipython",
    "version": 3
   },
   "file_extension": ".py",
   "mimetype": "text/x-python",
   "name": "python",
   "nbconvert_exporter": "python",
   "pygments_lexer": "ipython3",
   "version": "3.9.13"
  },
  "orig_nbformat": 4
 },
 "nbformat": 4,
 "nbformat_minor": 2
}
