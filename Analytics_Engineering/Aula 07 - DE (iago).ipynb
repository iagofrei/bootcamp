{
 "cells": [
  {
   "attachments": {},
   "cell_type": "markdown",
   "id": "f4071b47",
   "metadata": {},
   "source": [
    "# GCP"
   ]
  },
  {
   "attachments": {},
   "cell_type": "markdown",
   "id": "00c3a34a",
   "metadata": {},
   "source": [
    "## Passo no GCP"
   ]
  },
  {
   "attachments": {},
   "cell_type": "markdown",
   "id": "8d966816",
   "metadata": {},
   "source": [
    "### Criando um projeto no GCP:"
   ]
  },
  {
   "attachments": {},
   "cell_type": "markdown",
   "id": "2a4965e0",
   "metadata": {},
   "source": [
    "![passo1](images/image-1.png)\n",
    "![passo2](images/image-2.png)"
   ]
  },
  {
   "attachments": {},
   "cell_type": "markdown",
   "id": "2a84d5ce",
   "metadata": {},
   "source": [
    "### Conta de serviço e suas credencias"
   ]
  },
  {
   "attachments": {},
   "cell_type": "markdown",
   "id": "04c6856c",
   "metadata": {},
   "source": [
    "![passo3](images/image-3.png)\n",
    "![passo4](images/image-4.png)\n",
    "![passo5](images/image-5.png)\n",
    "![passo6](images/image-6.png)\n",
    "![passo7](images/image-7.png)\n",
    "![passo8](images/image-8.png)\n",
    "![passo9](images/image-9.png)\n",
    "![passo10](images/image-10.png)\n",
    "![passo11](images/image-11.png)"
   ]
  },
  {
   "attachments": {},
   "cell_type": "markdown",
   "id": "a4929048",
   "metadata": {},
   "source": [
    "### BigQuery"
   ]
  },
  {
   "attachments": {},
   "cell_type": "markdown",
   "id": "24725814",
   "metadata": {},
   "source": [
    "![passo12](images/image-12.png)\n",
    "![passo13](images/image-13.png)\n",
    "\n",
    "#### Utilizar dbt_shop (com underline) ao invés de dbt-shop\n",
    "\n",
    "![passo14](images/image-14.png)\n",
    "![passo15](images/image-15.png)\n",
    "![passo16](images/image-16.png)\n",
    "![passo17](images/image-17.png)\n",
    "![passo18](images/image-18.png)"
   ]
  },
  {
   "cell_type": "markdown",
   "id": "c9953161",
   "metadata": {},
   "source": [
    "---"
   ]
  },
  {
   "cell_type": "markdown",
   "id": "96560e92",
   "metadata": {},
   "source": [
    "---"
   ]
  },
  {
   "cell_type": "markdown",
   "id": "35475ba5",
   "metadata": {},
   "source": [
    "# Especializando dados com o DBT"
   ]
  },
  {
   "cell_type": "markdown",
   "id": "8e0881ee",
   "metadata": {},
   "source": [
    "O DBT (Data Build Tool) é uma ferramenta de orquestração de dados open source criada para ajudar equipes de dados a transformar, gerenciar e monitorar fluxos de dados de maneira mais eficiente. Com o dbt, é possível realizar tarefas como extrair, transformar e carregar dados, além de criar e gerenciar modelos de dados e tabelas."
   ]
  },
  {
   "cell_type": "markdown",
   "id": "6f634051",
   "metadata": {},
   "source": [
    "## 1. Instalando"
   ]
  },
  {
   "cell_type": "markdown",
   "id": "7cd0024c",
   "metadata": {},
   "source": [
    "Abra o terminal do seu computador e execute o seguinte comando:"
   ]
  },
  {
   "cell_type": "code",
   "execution_count": null,
   "id": "da4b970a",
   "metadata": {},
   "outputs": [],
   "source": [
    "!pip install dbt-core"
   ]
  },
  {
   "cell_type": "markdown",
   "id": "b847d86c",
   "metadata": {},
   "source": [
    "Como vamos utilizar o BigQuery como banco de dados, temos que instalar o plugin dbt-bigquery"
   ]
  },
  {
   "cell_type": "code",
   "execution_count": null,
   "id": "820779aa",
   "metadata": {},
   "outputs": [],
   "source": [
    "!pip install dbt-bigquery"
   ]
  },
  {
   "cell_type": "markdown",
   "id": "06648b55",
   "metadata": {},
   "source": [
    "Para certificar-se de ter o dbt Core instalado, verifique a versão usando o comando:"
   ]
  },
  {
   "cell_type": "code",
   "execution_count": null,
   "id": "fbc6611c",
   "metadata": {},
   "outputs": [],
   "source": [
    "!dbt --version"
   ]
  },
  {
   "cell_type": "markdown",
   "id": "6438e63f",
   "metadata": {},
   "source": [
    "---"
   ]
  },
  {
   "cell_type": "markdown",
   "id": "e43c02f4",
   "metadata": {},
   "source": [
    "## 2. Criando um projeto\n",
    "\n",
    "Vamos aprender a usar uma série de comandos no Terminal para criar um projeto. \n",
    "\n",
    "O dbt Core possui um comando ``init`` que ajuda a estruturar um projeto dbt.\n",
    "\n",
    "Para criar seu projeto dbt:"
   ]
  },
  {
   "attachments": {},
   "cell_type": "markdown",
   "id": "8ccd21d8",
   "metadata": {},
   "source": [
    "### 2.1. Crie uma pasta chamada `dbt` dentro do repositório e inicie um projeto dbt dentro dessa pasta"
   ]
  },
  {
   "attachments": {},
   "cell_type": "markdown",
   "id": "7a695ffe",
   "metadata": {},
   "source": [
    "Abra o terminal, e utilize o comando `cd dbt` para entrar na pasta dbt, a seguir rode o comando:"
   ]
  },
  {
   "attachments": {},
   "cell_type": "markdown",
   "id": "386aff9e",
   "metadata": {},
   "source": [
    "```\n",
    "dbt init shop\n",
    "````"
   ]
  },
  {
   "attachments": {},
   "cell_type": "markdown",
   "id": "bb8fb7c9",
   "metadata": {},
   "source": [
    "##### Explicação das peguntas da inicialização do dbt"
   ]
  },
  {
   "attachments": {},
   "cell_type": "markdown",
   "id": "911f7596",
   "metadata": {},
   "source": [
    "Em seguida, o dbt fará algumas perguntas para ajudá-lo a configurar seu projeto. As perguntas que o dbt faz podem variar um pouco dependendo da versão do dbt e das opções que você escolheu.\n",
    "\n",
    "Algumas das perguntas que o dbt pode fazer incluem:"
   ]
  },
  {
   "cell_type": "markdown",
   "id": "26c02d3b",
   "metadata": {},
   "source": [
    "- *__Which database do you want to use?__*\n",
    "    \n",
    "  O dbt pode trabalhar com vários tipos de banco de dados, incluindo PostgreSQL, Redshift, BigQuery e Snowflake (veja a lista completa em: https://docs.getdbt.com/docs/supported-data-platforms). \n",
    "  \n",
    "  Como vamos usar o Big Query, podemos escolher [1]"
   ]
  },
  {
   "cell_type": "markdown",
   "id": "2bb43f88",
   "metadata": {},
   "source": [
    "Agora, o dbt fará algumas perguntas específicas para configurar nosso projeto com o BigQuery. "
   ]
  },
  {
   "attachments": {},
   "cell_type": "markdown",
   "id": "9b81eda1",
   "metadata": {},
   "source": [
    "- __*Desired authentication method option (enter a number)*__\n",
    "\n",
    "    Essa pergunta é feita para permitir que você escolha como deseja autenticar sua conexão com o BigQuery.\n",
    "\n",
    "    O dbt suporta vários métodos de autenticação com o BigQuery, como autenticação baseada em chave de API, autenticação com credenciais de serviço do Google Cloud Platform (GCP) ou autenticação com OAuth. Dependendo do método de autenticação escolhido, o dbt precisará de diferentes informações de autenticação para se conectar com o BigQuery.\n",
    "\n",
    "    O dbt fornece uma lista numerada das opções de autenticação suportadas. Iremos optar por [2] service_account."
   ]
  },
  {
   "attachments": {},
   "cell_type": "markdown",
   "id": "cb9e19c5",
   "metadata": {},
   "source": [
    "Após selecionar o método de autenticação, o dbt fará algumas perguntas adicionais para configurar a conexão com o BigQuery. \n",
    "- **keyfile**: Como escolhemos a opção de autenticação baseada em credenciais de serviço do GCP, aqui é onde devemos fornecer o caminho para o arquivo JSON com as credenciais de serviço.\n",
    "- **project**: Aqui você deve informar o **id do projeto** no GCP que contém o BigQuery dataset que deseja acessar.\n",
    "- **dataset**: Informe o nome do dataset no BigQuery que você deseja usar para o seu projeto dbt.\n",
    "- **Desired location option (enter a number)**: Informe a região do BigQuery em que o dataset está localizado. Por exemplo, us-central1, europe-west1, etc.\n"
   ]
  },
  {
   "cell_type": "markdown",
   "id": "96edc2d4",
   "metadata": {},
   "source": [
    "Em seguida, o dbt init irá fazer mais algumas perguntas para personalizar o ambiente do projeto."
   ]
  },
  {
   "cell_type": "markdown",
   "id": "cf5b96d2",
   "metadata": {},
   "source": [
    "- **threads (1 or more)**: quantas threads você deseja usar ao executar tarefas do dbt em paralelo. Threads são como fluxos de trabalho separados que podem ser executados simultaneamente. O dbt usa threads para paralelizar a execução de tarefas, como a compilação de modelos ou a execução de consultas. O número de threads que você escolher pode depender de vários fatores, como o tamanho do seu conjunto de dados e a capacidade de processamento do seu hardware. Você pode optar por escolher o número padrão sugerido pelo dbt ou ajustar o número de threads com base em suas necessidades específicas.\n",
    "\n",
    "\n",
    "- **job_execution_timeout_seconds [300]**: permite definir um limite de tempo para a execução das tarefas do dbt. Isso é útil para garantir que as tarefas não sejam executadas indefinidamente e evita que o dbt fique preso em uma tarefa que nunca será concluída. O valor padrão para o tempo limite é de 300 segundos (ou 5 minutos), mas você pode optar por aumentar ou diminuir esse valor com base nas necessidades do seu projeto."
   ]
  },
  {
   "attachments": {},
   "cell_type": "markdown",
   "id": "0a6d5748",
   "metadata": {},
   "source": [
    "##### Inicialização do dbt"
   ]
  },
  {
   "attachments": {},
   "cell_type": "markdown",
   "id": "780469e8",
   "metadata": {},
   "source": [
    "```\n",
    "Enter a name for your project (letters, digits, underscore): shop\n",
    "Which database would you like to use?\n",
    "[1] bigquery\n",
    "\n",
    "(Don't see the one you want? https://docs.getdbt.com/docs/available-adapters)\n",
    "\n",
    "Enter a number: 1\n",
    "```"
   ]
  },
  {
   "attachments": {},
   "cell_type": "markdown",
   "id": "b9491c9d",
   "metadata": {},
   "source": [
    "```\n",
    "[1] oauth\n",
    "[2] service_account\n",
    "Desired authentication method option (enter a number): 2\n",
    "```"
   ]
  },
  {
   "attachments": {},
   "cell_type": "markdown",
   "id": "bb1cd213",
   "metadata": {},
   "source": [
    "```\n",
    "keyfile (/path/to/bigquery/keyfile.json): [CAMINHO ABSOLUTO PARA AS CREDENCIAIS DA CONTA DE SERVIÇO]\n",
    "project (GCP project id): [ID DO PROJETO NO GCP]\n",
    "dataset (the name of your dbt dataset): dataset_fernando\n",
    "threads (1 or more): 1\n",
    "job_execution_timeout_seconds [300]: 300\n",
    "```"
   ]
  },
  {
   "attachments": {},
   "cell_type": "markdown",
   "id": "e129c9f5",
   "metadata": {},
   "source": [
    "```\n",
    "[1] US\n",
    "[2] EU\n",
    "Desired location option (enter a number): 1\n",
    "```"
   ]
  },
  {
   "attachments": {},
   "cell_type": "markdown",
   "id": "d4106d1a",
   "metadata": {},
   "source": [
    "```\n",
    "Profile proj written to C:\\Users\\lcode\\.dbt\\profiles.yml using target's profile_template.yml and your supplied values. Run 'dbt debug' to validate the connection.\n",
    "\n",
    "Your new dbt project \"shop\" was created!\n",
    "\n",
    "For more information on how to configure the profiles.yml file,\n",
    "please consult the dbt documentation here:\n",
    "\n",
    "  https://docs.getdbt.com/docs/configure-your-profile\n",
    "\n",
    "One more thing:\n",
    "\n",
    "Need help? Don't hesitate to reach out to us via GitHub issues or on Slack:\n",
    "\n",
    "  https://community.getdbt.com/\n",
    "\n",
    "Happy modeling!\n",
    "```"
   ]
  },
  {
   "attachments": {},
   "cell_type": "markdown",
   "id": "e4a52ecc",
   "metadata": {},
   "source": [
    "### 2.2. Navegue até o diretório do seu projeto:"
   ]
  },
  {
   "attachments": {},
   "cell_type": "markdown",
   "id": "6101db64",
   "metadata": {},
   "source": [
    "```\n",
    "cd shop\n",
    "```"
   ]
  },
  {
   "attachments": {},
   "cell_type": "markdown",
   "id": "92a1fe1c",
   "metadata": {},
   "source": [
    "### 2.3. Abra o arquivo *dbt_project.yml*, que deve estar localizado no diretório raiz do seu projeto, confira os seguintes valores:"
   ]
  },
  {
   "attachments": {},
   "cell_type": "markdown",
   "id": "dc0b1fbf",
   "metadata": {},
   "source": [
    "```\n",
    "name: dbt_shop # Altere do padrão, `my_new_project`\n",
    "\n",
    "...\n",
    "\n",
    "profile: dbt_shop # Altere do nome de perfil padrão, `default`\n",
    "\n",
    "...\n",
    "\n",
    "models:\n",
    "  dbt_shop: # Obrigatoriamente deve corresponder ao valor de `name:`\n",
    "...\n",
    "```"
   ]
  },
  {
   "cell_type": "markdown",
   "id": "0d4d88b3",
   "metadata": {},
   "source": [
    "Com essa configuração concluída, você poderá começar a usar o dbt para transformar seus dados e construir modelos no BigQuery."
   ]
  },
  {
   "cell_type": "markdown",
   "id": "3ff5b74c",
   "metadata": {},
   "source": [
    "---"
   ]
  },
  {
   "cell_type": "markdown",
   "id": "8f7c564c",
   "metadata": {},
   "source": [
    "## 3. Conectando ao BigQuery"
   ]
  },
  {
   "cell_type": "markdown",
   "id": "f5ad4440",
   "metadata": {},
   "source": [
    "Quando desenvolvemos localmente, o dbt se conecta ao seu data warehouse usando um perfil, que é um arquivo yaml com todos os detalhes de conexão com seu data warehouse."
   ]
  },
  {
   "attachments": {},
   "cell_type": "markdown",
   "id": "340f7b02",
   "metadata": {},
   "source": [
    "1. Abra um arquivo chamado ``profiles.yml`` no diretório ``~/.dbt/``. E confira as informações que você inseriu."
   ]
  },
  {
   "attachments": {},
   "cell_type": "markdown",
   "id": "fd432bf7",
   "metadata": {},
   "source": [
    "2. Execute o comando ``debug`` para confirmar que você se conectou com sucesso:\n",
    "\n",
    "    ```\n",
    "    dbt debug\n",
    "    ```\n",
    "\n",
    "    Se tudo der certo, você deve obter uma resposta como a seguir:\n",
    "\n",
    "    ```\n",
    "        Configuration:\n",
    "        profiles.yml file [OK found and valid]\n",
    "        dbt_project.yml file [OK found and valid]\n",
    "\n",
    "        Required dependencies:\n",
    "        - git [OK found]\n",
    "\n",
    "        Connection:\n",
    "        method: service-account\n",
    "        database: dbt-shop\n",
    "        schema: dbt_fernando\n",
    "        location: US\n",
    "        priority: interactive\n",
    "        timeout_seconds: 300\n",
    "        maximum_bytes_billed: None\n",
    "        execution_project: dbt-shop\n",
    "        job_retry_deadline_seconds: None\n",
    "        job_retries: 1\n",
    "        job_creation_timeout_seconds: None\n",
    "        job_execution_timeout_seconds: 300\n",
    "        gcs_bucket: None\n",
    "        Connection test: [OK connection ok]\n",
    "\n",
    "        All checks passed!\n",
    "    ```"
   ]
  },
  {
   "cell_type": "markdown",
   "id": "c255d834",
   "metadata": {},
   "source": [
    "---"
   ]
  },
  {
   "attachments": {},
   "cell_type": "markdown",
   "id": "1ca10726",
   "metadata": {},
   "source": [
    "## 4. Origem dos dados"
   ]
  },
  {
   "attachments": {},
   "cell_type": "markdown",
   "id": "36e633cd",
   "metadata": {},
   "source": [
    "Iremos utilizar o dataset Brazilian E-Commerce Public Dataset by Olist (https://www.kaggle.com/datasets/olistbr/brazilian-ecommerce) um conjunto de dados públicos de comércio eletrônico brasileiro disponibilizado pela empresa Olist. O dataset inclui informações de pedidos, produtos, clientes, vendedores e pagamentos de mais de 100.000 pedidos realizados entre 2016 e 2018 em diferentes categorias de produtos. (Não é necessário baixar, pois os arquivos se encontram da pasta `aula7` dentro de `dados`)"
   ]
  },
  {
   "cell_type": "markdown",
   "id": "d7207db7",
   "metadata": {},
   "source": [
    "---"
   ]
  },
  {
   "cell_type": "markdown",
   "id": "a735caf7",
   "metadata": {},
   "source": [
    "## 5. Construindo um modelo "
   ]
  },
  {
   "attachments": {},
   "cell_type": "markdown",
   "id": "330b4ea8",
   "metadata": {},
   "source": [
    "### Dumb Job"
   ]
  },
  {
   "cell_type": "markdown",
   "id": "3c6fc7d1",
   "metadata": {},
   "source": [
    "Imagine que você precise gerar um relatório diário todas as manhãs antes das 10h para descobrir o número de pedidos por dia e representar o resultado em um dashboard (Looker ou Tableau, por exemplo).\n",
    "\n",
    "Para isso, teria que criar uma tabela daily_order_count na IU do BigQuery para servir de entrada para o Looker ou Tableau com o seguinte esquema: "
   ]
  },
  {
   "attachments": {},
   "cell_type": "markdown",
   "id": "e6ac8daf",
   "metadata": {},
   "source": [
    "``create table dbt_shop.daily_order_count (shipping_date date, num_orders int64)``"
   ]
  },
  {
   "cell_type": "markdown",
   "id": "6032a618",
   "metadata": {},
   "source": [
    "Depois, todos os dias você terá que executar esta consulta para inserir valores na tabela daily_order_count:\n",
    "\n"
   ]
  },
  {
   "attachments": {},
   "cell_type": "markdown",
   "id": "251b4510",
   "metadata": {},
   "source": [
    "```sql\n",
    "INSERT INTO `dbt_shop.daily_order_count`\n",
    "SELECT\n",
    "   DATE(shipping_limit_date) as shipping_date,\n",
    "   count(order_id) as num_orders\n",
    "FROM \n",
    "   `dbt_shop.order_items`\n",
    "WHERE \n",
    "   DATE(shipping_limit_date)='2018-06-13'\n",
    "GROUP BY 1\n",
    "```"
   ]
  },
  {
   "cell_type": "markdown",
   "id": "de259a63",
   "metadata": {},
   "source": [
    "Editar e executar esse .sql para será demorado e sujeito a erros.\n",
    "\n",
    "Agora, em vez de executar manualmente a partir da IU do BigQuery, vamos criar modelos dbt (como arquivos .sql) e deixar que o dbt cuide do resto. "
   ]
  },
  {
   "attachments": {},
   "cell_type": "markdown",
   "id": "fc4ec195",
   "metadata": {},
   "source": [
    "### Expert Job"
   ]
  },
  {
   "cell_type": "markdown",
   "id": "b7e04316",
   "metadata": {},
   "source": [
    "Com o dbt instalado e configurado, podemos começar a usá-lo para preparar os dados e construir tabelas e visões especializadas. Para isso, precisamos criar arquivos SQL que definem como as transformações serão realizadas."
   ]
  },
  {
   "attachments": {},
   "cell_type": "markdown",
   "id": "2f98d7a3",
   "metadata": {},
   "source": [
    "1. Crie um arquivo `daily_order_count.sql` em seu diretório `shop/models/daily_order_count.sql`. \n",
    "\n",
    "    __Atenção__: O nome do arquivo sql deve ser exatamente igual ao nome da tabela no BigQuery, que é daily_order_count."
   ]
  },
  {
   "attachments": {},
   "cell_type": "markdown",
   "id": "d8a0f14f",
   "metadata": {},
   "source": [
    "2. Copie a seguinte consulta em seu _daily_order_count.sql_\n",
    "   \n",
    "   ```sql\n",
    "   {{ config(materialized='table') }}\n",
    "\n",
    "   SELECT\n",
    "      DATE(shipping_limit_date) AS shipping_date, \n",
    "      count(order_id) AS num_orders \n",
    "   FROM \n",
    "      `dbt_shop.order_items` \n",
    "   WHERE \n",
    "      DATE(shipping_limit_date)='{{ var(\"ingestion_date\") }}' \n",
    "   GROUP BY \n",
    "      1\n",
    "    ```"
   ]
  },
  {
   "attachments": {},
   "cell_type": "markdown",
   "id": "d98ccc64",
   "metadata": {},
   "source": [
    "#### Hard Coded vs Soft Coded"
   ]
  },
  {
   "cell_type": "markdown",
   "id": "b8c665bd",
   "metadata": {},
   "source": [
    "__Pergunta__: Qual a diferença entre o SQL que você executou agora comparando com o anterior?"
   ]
  },
  {
   "attachments": {},
   "cell_type": "markdown",
   "id": "10cf8cd6",
   "metadata": {},
   "source": [
    "__Resposta__: Removemos a instrução insert e mudamos os valores de shipping_limit_date para uma variável '{{ var(\"ingestion_date\") }}'"
   ]
  },
  {
   "cell_type": "markdown",
   "id": "569ebc8b",
   "metadata": {},
   "source": [
    "O dbt fornece um mecanismo de variáveis para fornecer dados aos modelos para compilação. \n",
    "\n",
    "Nesse caso, as variáveis podem ser usadas para evitar que valores fiquem permanentes (hardcoded) na consulta. \n",
    "\n",
    "Para usar uma variável no modelo daily_order_count, use a função {{ var('...') }}"
   ]
  },
  {
   "cell_type": "markdown",
   "id": "5fa05406",
   "metadata": {},
   "source": [
    "---"
   ]
  },
  {
   "cell_type": "markdown",
   "id": "98c21d0c",
   "metadata": {},
   "source": [
    "## 6. Execute seu projeto DBT"
   ]
  },
  {
   "cell_type": "markdown",
   "id": "8e071b93",
   "metadata": {},
   "source": [
    "Agora vamos usar ``dbt run`` para inserir esses valores na tabela ``daily_order_count``. \n",
    "\n",
    "Execute os seguintes comandos, um por um."
   ]
  },
  {
   "attachments": {},
   "cell_type": "markdown",
   "id": "87da63f2",
   "metadata": {},
   "source": [
    "`` dbt run --models shop.daily_order_count --vars \"{'ingestion_date': '2018-06-29'}\" ``"
   ]
  },
  {
   "attachments": {},
   "cell_type": "markdown",
   "id": "88a7c641",
   "metadata": {},
   "source": [
    "`` dbt run --models shop.daily_order_count --vars \"{'ingestion_date': '2018-06-12'}\" ``"
   ]
  },
  {
   "attachments": {},
   "cell_type": "markdown",
   "id": "47b36d8f",
   "metadata": {},
   "source": [
    "#### Modelo"
   ]
  },
  {
   "cell_type": "markdown",
   "id": "90b4e3d6",
   "metadata": {},
   "source": [
    "Acabamos de criar um **modelo**.\n",
    "\n",
    "Modelo é um dos principais componentes de um projeto dbt. \n",
    "\n",
    "Cada modelo é declarado como um ``select`` e definido em um arquivo .sql. \n",
    "\n",
    "O nome do arquivo é usado como o nome do modelo. \n",
    "\n",
    "Voltando ao exemplo, o _daily_order_count.sql_ é um modelo."
   ]
  },
  {
   "attachments": {},
   "cell_type": "markdown",
   "id": "26e0cbe5",
   "metadata": {},
   "source": [
    "---"
   ]
  },
  {
   "attachments": {},
   "cell_type": "markdown",
   "id": "480fe4d1",
   "metadata": {},
   "source": [
    "## 7. Exercício"
   ]
  },
  {
   "attachments": {},
   "cell_type": "markdown",
   "id": "79ae9f0a",
   "metadata": {},
   "source": [
    "1. Utilizando a tabela costumer crie uma view que faça a contagem de cidades por estados.\n",
    "2. Utilizando a tabela costumer crie uma view que faça a contagem de cidades para um estado específico, que será passado via variável, por exemplo: \"SP\".\n",
    "   "
   ]
  }
 ],
 "metadata": {
  "kernelspec": {
   "display_name": "Python 3",
   "language": "python",
   "name": "python3"
  },
  "language_info": {
   "codemirror_mode": {
    "name": "ipython",
    "version": 3
   },
   "file_extension": ".py",
   "mimetype": "text/x-python",
   "name": "python",
   "nbconvert_exporter": "python",
   "pygments_lexer": "ipython3",
   "version": "3.10.10"
  }
 },
 "nbformat": 4,
 "nbformat_minor": 5
}
