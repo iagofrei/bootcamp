{
 "cells": [
  {
   "cell_type": "markdown",
   "id": "b1b3d390",
   "metadata": {},
   "source": [
    "# Great Expectations"
   ]
  },
  {
   "cell_type": "markdown",
   "id": "dba67d1a",
   "metadata": {},
   "source": [
    "## Instalando"
   ]
  },
  {
   "cell_type": "code",
   "execution_count": null,
   "id": "bd789c3e",
   "metadata": {},
   "outputs": [],
   "source": [
    "!pip install --upgrade pandas==1.5.1\n",
    "!pip install great_expectations==0.16.3"
   ]
  },
  {
   "cell_type": "markdown",
   "id": "c54a39cc",
   "metadata": {},
   "source": [
    "## Validando os dados"
   ]
  },
  {
   "cell_type": "markdown",
   "id": "71d88fa1",
   "metadata": {},
   "source": [
    "Validamos o conjunto de dados com a suíte de expectativas. \n",
    "\n",
    "Em seguida, verificamos se a validação foi bem-sucedida verificando o atributo success do objeto ExpectationValidationResult"
   ]
  },
  {
   "cell_type": "markdown",
   "id": "7595c92e",
   "metadata": {},
   "source": [
    "### Validação de valores únicos em uma coluna"
   ]
  },
  {
   "cell_type": "code",
   "execution_count": 1,
   "id": "33a43651",
   "metadata": {},
   "outputs": [],
   "source": [
    "import great_expectations as gx \n",
    "import pandas as pd "
   ]
  },
  {
   "cell_type": "code",
   "execution_count": null,
   "id": "6d6bffe6",
   "metadata": {},
   "outputs": [],
   "source": [
    "df = pd.DataFrame({'nome':['João', 'Maria', 'Joaquim', 'Pedro', 'Ana', 'pedro']})"
   ]
  },
  {
   "cell_type": "markdown",
   "id": "cbeb1b3d",
   "metadata": {},
   "source": [
    "Crie uma expectation que verifica se a coluna \"codigo\" contém apenas valores únicos.\n",
    "\n",
    "Use a função ``expect_column_values_to_be_unique`` para definir essa expectativa"
   ]
  },
  {
   "cell_type": "code",
   "execution_count": null,
   "id": "5242cd96",
   "metadata": {},
   "outputs": [],
   "source": [
    "df_gx = gx.dataset.PandasDataset(df)\n",
    "df_gx"
   ]
  },
  {
   "cell_type": "code",
   "execution_count": null,
   "id": "20484aed",
   "metadata": {},
   "outputs": [],
   "source": [
    "validation_result = df_gx.expect_column_values_to_be_unique(column = 'nome')\n",
    "validation_result"
   ]
  },
  {
   "cell_type": "code",
   "execution_count": null,
   "id": "e4a1e31a",
   "metadata": {},
   "outputs": [],
   "source": [
    "if validation_result['success']:\n",
    "    print('A coluna nome contem apenas valores únicos')\n",
    "else:\n",
    "    print('A coluna nome possui valores duplicados')"
   ]
  },
  {
   "cell_type": "code",
   "execution_count": null,
   "id": "e5c3400a",
   "metadata": {},
   "outputs": [],
   "source": [
    "df2 = pd.DataFrame({'codigo':[1001, 1002, 1003, 1006, 1002, 1005, 1003]})\n",
    "df_gx2 = gx.dataset.PandasDataset(df2)\n",
    "df_gx2"
   ]
  },
  {
   "cell_type": "code",
   "execution_count": null,
   "id": "cdb74847",
   "metadata": {},
   "outputs": [],
   "source": [
    "validation_result = df_gx2.expect_column_values_to_be_unique(column = 'codigo')\n",
    "validation_result"
   ]
  },
  {
   "cell_type": "markdown",
   "id": "3530a20b",
   "metadata": {},
   "source": [
    "### Validação de valores mínimos e máximos em uma coluna numérica\n",
    "\n",
    "Use a função ``expect_column_values_to_be_between`` para verificar se a coluna \"idade\" contém apenas valores entre 18 e 65 anos.\n",
    "\n",
    "Passamos os valores mínimo e máximo permitidos como argumentos. Em seguida, validamos o conjunto de dados com a suíte de expectativas e verificamos se a validação foi bem-sucedida.\n"
   ]
  },
  {
   "cell_type": "code",
   "execution_count": null,
   "id": "de1f6bf7",
   "metadata": {},
   "outputs": [],
   "source": [
    "df = pd.DataFrame({'idade': [15, 10, 18, 20, 25, 30, 35, 40, 45, 50, 55, 60, 65, 70, 75, 80, 85, 90, 95, 100, 105]})\n",
    "df"
   ]
  },
  {
   "cell_type": "code",
   "execution_count": null,
   "id": "2c63e919",
   "metadata": {},
   "outputs": [],
   "source": [
    "df_gx3 = gx.dataset.PandasDataset(df)\n",
    "df_gx3"
   ]
  },
  {
   "cell_type": "code",
   "execution_count": null,
   "id": "25b4a130",
   "metadata": {},
   "outputs": [],
   "source": [
    "result = df_gx3.expect_column_values_to_be_between(column = 'idade', min_value = 18, max_value = 65)\n",
    "result"
   ]
  },
  {
   "cell_type": "markdown",
   "id": "c3375e10",
   "metadata": {},
   "source": [
    "### Validação de formatos de data em uma coluna"
   ]
  },
  {
   "cell_type": "code",
   "execution_count": null,
   "id": "9176dd2b",
   "metadata": {},
   "outputs": [],
   "source": [
    "df = pd.DataFrame({'data':['2022-02-02', '2022-01-02', '2022-01-04', '2022-13-04', '2022-01-05', '01-01-2024']})\n",
    "df_gx4 = gx.dataset.PandasDataset(df)"
   ]
  },
  {
   "cell_type": "code",
   "execution_count": null,
   "id": "c54dc25b",
   "metadata": {},
   "outputs": [],
   "source": [
    "dict_ = df_gx4.expect_column_values_to_match_strftime_format(column='data', strftime_format = \"%Y-%m-%d\")"
   ]
  },
  {
   "cell_type": "code",
   "execution_count": null,
   "id": "0667f460",
   "metadata": {},
   "outputs": [],
   "source": [
    "dict_['result']"
   ]
  },
  {
   "cell_type": "markdown",
   "id": "6bcfcf0d",
   "metadata": {},
   "source": [
    "### Validação de valores nulos em uma coluna\n",
    "\n",
    "Criaremos uma Expectation que verifica se a coluna \"salario\" não contém valores nulos"
   ]
  },
  {
   "cell_type": "code",
   "execution_count": null,
   "id": "e9322e0a",
   "metadata": {},
   "outputs": [],
   "source": [
    "df = pd.DataFrame({'salario': [2000, 2500, 3000, None, 4000, 4500]})\n",
    "df_gx5 = gx.dataset.PandasDataset(df)"
   ]
  },
  {
   "cell_type": "code",
   "execution_count": null,
   "id": "9d9921c9",
   "metadata": {},
   "outputs": [],
   "source": [
    "result = df_gx5.expect_column_values_to_not_be_null(column= 'salario')\n",
    "result"
   ]
  },
  {
   "cell_type": "markdown",
   "id": "d203fb8f",
   "metadata": {},
   "source": [
    "### Validação de formatos de string em uma coluna (cpf)\n",
    "\n",
    "Vamos criar uma Expectation que verifica se a coluna \"cpf\" contém apenas CPFs no formato 'XXX.XXX.XXX-XX'. \n",
    "\n",
    "Usaremos a função ``expect_column_values_to_match_regex`` para definir essa expectativa.\n",
    "\n",
    "Para entender o regex você pode utilizar o site: https://regexr.com/3cr6f."
   ]
  },
  {
   "cell_type": "code",
   "execution_count": null,
   "id": "05ed4c58",
   "metadata": {},
   "outputs": [],
   "source": [
    "df = pd.DataFrame({'cpf':['123.456.789-10', '234.345.567.09', '345-578-908.96', '647.456.778-04', 'abc.003.456-02']})\n",
    "df_gx6 = gx.dataset.PandasDataset(df)"
   ]
  },
  {
   "cell_type": "code",
   "execution_count": null,
   "id": "80f6178d",
   "metadata": {},
   "outputs": [],
   "source": [
    "result = df_gx6.expect_column_values_to_match_regex(column='cpf', regex='^\\d{3}.\\d{3}.\\d{3}-\\d{2}')\n",
    "result"
   ]
  },
  {
   "cell_type": "markdown",
   "id": "20106dee",
   "metadata": {},
   "source": [
    "### Validação de formatos de string em uma coluna (email)\n",
    "\n",
    "Vamos criar uma Expectation que verifica se a coluna \"email\" tem um formato esperado.\n",
    "\n",
    "Usaremos a função ``expect_column_values_to_match_regex`` para definir essa expectativa.\n",
    "\n",
    "Para entender o regex você pode utilizar o site: https://regexr.com/3cr6f.\n",
    "\n",
    "Email regex: https://pt.stackoverflow.com/a/276022."
   ]
  },
  {
   "cell_type": "code",
   "execution_count": null,
   "id": "3d858f1d",
   "metadata": {},
   "outputs": [],
   "source": [
    "df = pd.DataFrame(\n",
    "    {\n",
    "        'email': [\n",
    "            'fernando@gmail.com', \n",
    "            'fernando.barbarossa@gmail', \n",
    "            'fernando.barbarossa@ada.tech', \n",
    "            'fernando.barbarossa@ada.tech.br', \n",
    "            'fernando_barbarossa+@ada.tech', \n",
    "            'fernandoBarbarossa+@ada.tech', \n",
    "            'fernando_barbarossa08@itau.com.br',\n",
    "            'fernando_barbarossa08@itau.edu.sp.br',\n",
    "        ]\n",
    "    }\n",
    ")\n",
    "df_gx = gx.dataset.PandasDataset(df)\n",
    "df_gx"
   ]
  },
  {
   "cell_type": "code",
   "execution_count": null,
   "id": "3d5d9d99",
   "metadata": {},
   "outputs": [],
   "source": [
    "result = df_gx.expect_column_values_to_match_regex(column='email', regex='^[\\w+.]+@\\w+\\.\\w{2,}(?:\\.\\w{2})?$')\n",
    "result"
   ]
  },
  {
   "cell_type": "markdown",
   "id": "86bd6d5a",
   "metadata": {},
   "source": [
    "### Validação de contagem de valores em uma coluna\n",
    "\n",
    "\n",
    "Vamos criar um dataframe com uma coluna \"cidade\" e usar a função ``expect_column_unique_value_count_to_be_between`` para definir se a coluna \"cidade\" contém pelo menos 3 ocorrências de cada cidade. \n",
    "\n",
    "Em seguida, passamos um dicionário com os valores esperados de cada cidade e um valor mínimo e máximo de ocorrências permitidas. "
   ]
  },
  {
   "cell_type": "code",
   "execution_count": null,
   "id": "10ed1275",
   "metadata": {},
   "outputs": [],
   "source": [
    "df = pd.DataFrame({'cidade':['São Paulo', 'Rio de Janeiro', 'Belo Horizonte',\n",
    "                             'São Paulo', 'Rio de Janeiro', 'Belo Horizonte',\n",
    "                             'São Paulo', 'Rio de Janeiro', 'Belo Horizonte',\n",
    "                            ]})\n",
    "df_gx = gx.dataset.PandasDataset(df)\n",
    "df_gx"
   ]
  },
  {
   "cell_type": "code",
   "execution_count": null,
   "id": "fe81484c",
   "metadata": {},
   "outputs": [],
   "source": [
    "result = df_gx.expect_column_unique_value_count_to_be_between(column = 'cidade', min_value = 2, max_value = 3)\n",
    "result"
   ]
  },
  {
   "cell_type": "markdown",
   "id": "cb403562",
   "metadata": {},
   "source": [
    "## Expectativas para us_tax_data_2016"
   ]
  },
  {
   "cell_type": "code",
   "execution_count": 3,
   "id": "a1b56dad",
   "metadata": {},
   "outputs": [],
   "source": [
    "path = '../data_analytics_engineering/dados/atividade1/us_tax_data_2016.csv'"
   ]
  },
  {
   "cell_type": "code",
   "execution_count": 4,
   "id": "c567d520",
   "metadata": {},
   "outputs": [
    {
     "data": {
      "text/html": [
       "<div>\n",
       "<style scoped>\n",
       "    .dataframe tbody tr th:only-of-type {\n",
       "        vertical-align: middle;\n",
       "    }\n",
       "\n",
       "    .dataframe tbody tr th {\n",
       "        vertical-align: top;\n",
       "    }\n",
       "\n",
       "    .dataframe thead th {\n",
       "        text-align: right;\n",
       "    }\n",
       "</style>\n",
       "<table border=\"1\" class=\"dataframe\">\n",
       "  <thead>\n",
       "    <tr style=\"text-align: right;\">\n",
       "      <th></th>\n",
       "      <th>STATEFIPS</th>\n",
       "      <th>STATE</th>\n",
       "      <th>zipcode</th>\n",
       "      <th>agi_stub</th>\n",
       "      <th>N1</th>\n",
       "      <th>mars1</th>\n",
       "      <th>MARS2</th>\n",
       "      <th>MARS4</th>\n",
       "      <th>PREP</th>\n",
       "      <th>N2</th>\n",
       "      <th>...</th>\n",
       "      <th>N10300</th>\n",
       "      <th>A10300</th>\n",
       "      <th>N85530</th>\n",
       "      <th>A85530</th>\n",
       "      <th>N85300</th>\n",
       "      <th>A85300</th>\n",
       "      <th>N11901</th>\n",
       "      <th>A11901</th>\n",
       "      <th>N11902</th>\n",
       "      <th>A11902</th>\n",
       "    </tr>\n",
       "  </thead>\n",
       "  <tbody>\n",
       "    <tr>\n",
       "      <th>0</th>\n",
       "      <td>1</td>\n",
       "      <td>AL</td>\n",
       "      <td>0</td>\n",
       "      <td>1</td>\n",
       "      <td>815440</td>\n",
       "      <td>477700</td>\n",
       "      <td>105350</td>\n",
       "      <td>221200</td>\n",
       "      <td>440830</td>\n",
       "      <td>1296920</td>\n",
       "      <td>...</td>\n",
       "      <td>367320</td>\n",
       "      <td>330066</td>\n",
       "      <td>0</td>\n",
       "      <td>0</td>\n",
       "      <td>0</td>\n",
       "      <td>0</td>\n",
       "      <td>63420</td>\n",
       "      <td>51444</td>\n",
       "      <td>711580</td>\n",
       "      <td>1831661</td>\n",
       "    </tr>\n",
       "    <tr>\n",
       "      <th>1</th>\n",
       "      <td>1</td>\n",
       "      <td>AL</td>\n",
       "      <td>0</td>\n",
       "      <td>2</td>\n",
       "      <td>495830</td>\n",
       "      <td>211930</td>\n",
       "      <td>142340</td>\n",
       "      <td>128890</td>\n",
       "      <td>272440</td>\n",
       "      <td>996240</td>\n",
       "      <td>...</td>\n",
       "      <td>398050</td>\n",
       "      <td>984297</td>\n",
       "      <td>0</td>\n",
       "      <td>0</td>\n",
       "      <td>0</td>\n",
       "      <td>0</td>\n",
       "      <td>74090</td>\n",
       "      <td>110889</td>\n",
       "      <td>416090</td>\n",
       "      <td>1173463</td>\n",
       "    </tr>\n",
       "    <tr>\n",
       "      <th>2</th>\n",
       "      <td>1</td>\n",
       "      <td>AL</td>\n",
       "      <td>0</td>\n",
       "      <td>3</td>\n",
       "      <td>263390</td>\n",
       "      <td>83420</td>\n",
       "      <td>137870</td>\n",
       "      <td>36340</td>\n",
       "      <td>154880</td>\n",
       "      <td>584000</td>\n",
       "      <td>...</td>\n",
       "      <td>253180</td>\n",
       "      <td>1349246</td>\n",
       "      <td>0</td>\n",
       "      <td>0</td>\n",
       "      <td>0</td>\n",
       "      <td>0</td>\n",
       "      <td>64000</td>\n",
       "      <td>143060</td>\n",
       "      <td>195130</td>\n",
       "      <td>543284</td>\n",
       "    </tr>\n",
       "    <tr>\n",
       "      <th>3</th>\n",
       "      <td>1</td>\n",
       "      <td>AL</td>\n",
       "      <td>0</td>\n",
       "      <td>4</td>\n",
       "      <td>167190</td>\n",
       "      <td>29420</td>\n",
       "      <td>124060</td>\n",
       "      <td>10610</td>\n",
       "      <td>99700</td>\n",
       "      <td>421720</td>\n",
       "      <td>...</td>\n",
       "      <td>165830</td>\n",
       "      <td>1425430</td>\n",
       "      <td>0</td>\n",
       "      <td>0</td>\n",
       "      <td>0</td>\n",
       "      <td>0</td>\n",
       "      <td>45020</td>\n",
       "      <td>128920</td>\n",
       "      <td>117410</td>\n",
       "      <td>381329</td>\n",
       "    </tr>\n",
       "    <tr>\n",
       "      <th>4</th>\n",
       "      <td>1</td>\n",
       "      <td>AL</td>\n",
       "      <td>0</td>\n",
       "      <td>5</td>\n",
       "      <td>217440</td>\n",
       "      <td>20240</td>\n",
       "      <td>188080</td>\n",
       "      <td>4880</td>\n",
       "      <td>129410</td>\n",
       "      <td>601040</td>\n",
       "      <td>...</td>\n",
       "      <td>216720</td>\n",
       "      <td>3922449</td>\n",
       "      <td>390</td>\n",
       "      <td>155</td>\n",
       "      <td>60</td>\n",
       "      <td>19</td>\n",
       "      <td>82940</td>\n",
       "      <td>423629</td>\n",
       "      <td>126130</td>\n",
       "      <td>506526</td>\n",
       "    </tr>\n",
       "  </tbody>\n",
       "</table>\n",
       "<p>5 rows × 147 columns</p>\n",
       "</div>"
      ],
      "text/plain": [
       "   STATEFIPS STATE  zipcode  agi_stub      N1   mars1   MARS2   MARS4    PREP  \\\n",
       "0          1    AL        0         1  815440  477700  105350  221200  440830   \n",
       "1          1    AL        0         2  495830  211930  142340  128890  272440   \n",
       "2          1    AL        0         3  263390   83420  137870   36340  154880   \n",
       "3          1    AL        0         4  167190   29420  124060   10610   99700   \n",
       "4          1    AL        0         5  217440   20240  188080    4880  129410   \n",
       "\n",
       "        N2  ...  N10300   A10300  N85530  A85530  N85300  A85300  N11901  \\\n",
       "0  1296920  ...  367320   330066       0       0       0       0   63420   \n",
       "1   996240  ...  398050   984297       0       0       0       0   74090   \n",
       "2   584000  ...  253180  1349246       0       0       0       0   64000   \n",
       "3   421720  ...  165830  1425430       0       0       0       0   45020   \n",
       "4   601040  ...  216720  3922449     390     155      60      19   82940   \n",
       "\n",
       "   A11901  N11902   A11902  \n",
       "0   51444  711580  1831661  \n",
       "1  110889  416090  1173463  \n",
       "2  143060  195130   543284  \n",
       "3  128920  117410   381329  \n",
       "4  423629  126130   506526  \n",
       "\n",
       "[5 rows x 147 columns]"
      ]
     },
     "execution_count": 4,
     "metadata": {},
     "output_type": "execute_result"
    }
   ],
   "source": [
    "df = gx.read_csv(path)\n",
    "df.head()"
   ]
  },
  {
   "cell_type": "markdown",
   "id": "61e7241e",
   "metadata": {},
   "source": [
    "### Definindo expectativas dos dados us_tax_data_2016"
   ]
  },
  {
   "cell_type": "markdown",
   "id": "a7ccd621",
   "metadata": {},
   "source": [
    "``expect_column_values_to_be_in_set`` agi_stub"
   ]
  },
  {
   "cell_type": "code",
   "execution_count": 5,
   "id": "40f986a5",
   "metadata": {},
   "outputs": [
    {
     "data": {
      "text/plain": [
       "array([1, 2, 3, 4, 5, 6], dtype=int64)"
      ]
     },
     "execution_count": 5,
     "metadata": {},
     "output_type": "execute_result"
    }
   ],
   "source": [
    "df['agi_stub'].unique()"
   ]
  },
  {
   "cell_type": "code",
   "execution_count": 6,
   "id": "d16ff0ca",
   "metadata": {},
   "outputs": [
    {
     "data": {
      "text/plain": [
       "{\n",
       "  \"meta\": {},\n",
       "  \"success\": true,\n",
       "  \"exception_info\": {\n",
       "    \"raised_exception\": false,\n",
       "    \"exception_traceback\": null,\n",
       "    \"exception_message\": null\n",
       "  },\n",
       "  \"result\": {\n",
       "    \"element_count\": 3001,\n",
       "    \"missing_count\": 0,\n",
       "    \"missing_percent\": 0.0,\n",
       "    \"unexpected_count\": 999,\n",
       "    \"unexpected_percent\": 33.28890369876707,\n",
       "    \"unexpected_percent_total\": 33.28890369876707,\n",
       "    \"unexpected_percent_nonmissing\": 33.28890369876707,\n",
       "    \"partial_unexpected_list\": [\n",
       "      5,\n",
       "      6,\n",
       "      5,\n",
       "      6,\n",
       "      5,\n",
       "      6,\n",
       "      5,\n",
       "      6,\n",
       "      5,\n",
       "      6,\n",
       "      5,\n",
       "      6,\n",
       "      5,\n",
       "      6,\n",
       "      5,\n",
       "      6,\n",
       "      5,\n",
       "      6,\n",
       "      5,\n",
       "      6\n",
       "    ]\n",
       "  }\n",
       "}"
      ]
     },
     "execution_count": 6,
     "metadata": {},
     "output_type": "execute_result"
    }
   ],
   "source": [
    "df.expect_column_values_to_be_in_set('agi_stub', [1,2,3,4], mostly = .66)"
   ]
  },
  {
   "cell_type": "markdown",
   "id": "70d04d40",
   "metadata": {},
   "source": [
    "``expect_column_values_to_be_in_set`` zip code zeros"
   ]
  },
  {
   "cell_type": "code",
   "execution_count": 7,
   "id": "d92c3948",
   "metadata": {},
   "outputs": [
    {
     "data": {
      "text/html": [
       "<div>\n",
       "<style scoped>\n",
       "    .dataframe tbody tr th:only-of-type {\n",
       "        vertical-align: middle;\n",
       "    }\n",
       "\n",
       "    .dataframe tbody tr th {\n",
       "        vertical-align: top;\n",
       "    }\n",
       "\n",
       "    .dataframe thead th {\n",
       "        text-align: right;\n",
       "    }\n",
       "</style>\n",
       "<table border=\"1\" class=\"dataframe\">\n",
       "  <thead>\n",
       "    <tr style=\"text-align: right;\">\n",
       "      <th></th>\n",
       "      <th>STATEFIPS</th>\n",
       "      <th>STATE</th>\n",
       "      <th>zipcode</th>\n",
       "      <th>agi_stub</th>\n",
       "      <th>N1</th>\n",
       "      <th>mars1</th>\n",
       "      <th>MARS2</th>\n",
       "      <th>MARS4</th>\n",
       "      <th>PREP</th>\n",
       "      <th>N2</th>\n",
       "      <th>...</th>\n",
       "      <th>N10300</th>\n",
       "      <th>A10300</th>\n",
       "      <th>N85530</th>\n",
       "      <th>A85530</th>\n",
       "      <th>N85300</th>\n",
       "      <th>A85300</th>\n",
       "      <th>N11901</th>\n",
       "      <th>A11901</th>\n",
       "      <th>N11902</th>\n",
       "      <th>A11902</th>\n",
       "    </tr>\n",
       "  </thead>\n",
       "  <tbody>\n",
       "    <tr>\n",
       "      <th>0</th>\n",
       "      <td>1</td>\n",
       "      <td>AL</td>\n",
       "      <td>0</td>\n",
       "      <td>1</td>\n",
       "      <td>815440</td>\n",
       "      <td>477700</td>\n",
       "      <td>105350</td>\n",
       "      <td>221200</td>\n",
       "      <td>440830</td>\n",
       "      <td>1296920</td>\n",
       "      <td>...</td>\n",
       "      <td>367320</td>\n",
       "      <td>330066</td>\n",
       "      <td>0</td>\n",
       "      <td>0</td>\n",
       "      <td>0</td>\n",
       "      <td>0</td>\n",
       "      <td>63420</td>\n",
       "      <td>51444</td>\n",
       "      <td>711580</td>\n",
       "      <td>1831661</td>\n",
       "    </tr>\n",
       "    <tr>\n",
       "      <th>1</th>\n",
       "      <td>1</td>\n",
       "      <td>AL</td>\n",
       "      <td>0</td>\n",
       "      <td>2</td>\n",
       "      <td>495830</td>\n",
       "      <td>211930</td>\n",
       "      <td>142340</td>\n",
       "      <td>128890</td>\n",
       "      <td>272440</td>\n",
       "      <td>996240</td>\n",
       "      <td>...</td>\n",
       "      <td>398050</td>\n",
       "      <td>984297</td>\n",
       "      <td>0</td>\n",
       "      <td>0</td>\n",
       "      <td>0</td>\n",
       "      <td>0</td>\n",
       "      <td>74090</td>\n",
       "      <td>110889</td>\n",
       "      <td>416090</td>\n",
       "      <td>1173463</td>\n",
       "    </tr>\n",
       "    <tr>\n",
       "      <th>2</th>\n",
       "      <td>1</td>\n",
       "      <td>AL</td>\n",
       "      <td>0</td>\n",
       "      <td>3</td>\n",
       "      <td>263390</td>\n",
       "      <td>83420</td>\n",
       "      <td>137870</td>\n",
       "      <td>36340</td>\n",
       "      <td>154880</td>\n",
       "      <td>584000</td>\n",
       "      <td>...</td>\n",
       "      <td>253180</td>\n",
       "      <td>1349246</td>\n",
       "      <td>0</td>\n",
       "      <td>0</td>\n",
       "      <td>0</td>\n",
       "      <td>0</td>\n",
       "      <td>64000</td>\n",
       "      <td>143060</td>\n",
       "      <td>195130</td>\n",
       "      <td>543284</td>\n",
       "    </tr>\n",
       "    <tr>\n",
       "      <th>3</th>\n",
       "      <td>1</td>\n",
       "      <td>AL</td>\n",
       "      <td>0</td>\n",
       "      <td>4</td>\n",
       "      <td>167190</td>\n",
       "      <td>29420</td>\n",
       "      <td>124060</td>\n",
       "      <td>10610</td>\n",
       "      <td>99700</td>\n",
       "      <td>421720</td>\n",
       "      <td>...</td>\n",
       "      <td>165830</td>\n",
       "      <td>1425430</td>\n",
       "      <td>0</td>\n",
       "      <td>0</td>\n",
       "      <td>0</td>\n",
       "      <td>0</td>\n",
       "      <td>45020</td>\n",
       "      <td>128920</td>\n",
       "      <td>117410</td>\n",
       "      <td>381329</td>\n",
       "    </tr>\n",
       "    <tr>\n",
       "      <th>4</th>\n",
       "      <td>1</td>\n",
       "      <td>AL</td>\n",
       "      <td>0</td>\n",
       "      <td>5</td>\n",
       "      <td>217440</td>\n",
       "      <td>20240</td>\n",
       "      <td>188080</td>\n",
       "      <td>4880</td>\n",
       "      <td>129410</td>\n",
       "      <td>601040</td>\n",
       "      <td>...</td>\n",
       "      <td>216720</td>\n",
       "      <td>3922449</td>\n",
       "      <td>390</td>\n",
       "      <td>155</td>\n",
       "      <td>60</td>\n",
       "      <td>19</td>\n",
       "      <td>82940</td>\n",
       "      <td>423629</td>\n",
       "      <td>126130</td>\n",
       "      <td>506526</td>\n",
       "    </tr>\n",
       "    <tr>\n",
       "      <th>5</th>\n",
       "      <td>1</td>\n",
       "      <td>AL</td>\n",
       "      <td>0</td>\n",
       "      <td>6</td>\n",
       "      <td>57240</td>\n",
       "      <td>2970</td>\n",
       "      <td>51130</td>\n",
       "      <td>400</td>\n",
       "      <td>42920</td>\n",
       "      <td>165770</td>\n",
       "      <td>...</td>\n",
       "      <td>57170</td>\n",
       "      <td>6208277</td>\n",
       "      <td>23170</td>\n",
       "      <td>40099</td>\n",
       "      <td>28220</td>\n",
       "      <td>89072</td>\n",
       "      <td>28900</td>\n",
       "      <td>825381</td>\n",
       "      <td>17350</td>\n",
       "      <td>254122</td>\n",
       "    </tr>\n",
       "  </tbody>\n",
       "</table>\n",
       "<p>6 rows × 147 columns</p>\n",
       "</div>"
      ],
      "text/plain": [
       "   STATEFIPS STATE  zipcode  agi_stub      N1   mars1   MARS2   MARS4    PREP  \\\n",
       "0          1    AL        0         1  815440  477700  105350  221200  440830   \n",
       "1          1    AL        0         2  495830  211930  142340  128890  272440   \n",
       "2          1    AL        0         3  263390   83420  137870   36340  154880   \n",
       "3          1    AL        0         4  167190   29420  124060   10610   99700   \n",
       "4          1    AL        0         5  217440   20240  188080    4880  129410   \n",
       "5          1    AL        0         6   57240    2970   51130     400   42920   \n",
       "\n",
       "        N2  ...  N10300   A10300  N85530  A85530  N85300  A85300  N11901  \\\n",
       "0  1296920  ...  367320   330066       0       0       0       0   63420   \n",
       "1   996240  ...  398050   984297       0       0       0       0   74090   \n",
       "2   584000  ...  253180  1349246       0       0       0       0   64000   \n",
       "3   421720  ...  165830  1425430       0       0       0       0   45020   \n",
       "4   601040  ...  216720  3922449     390     155      60      19   82940   \n",
       "5   165770  ...   57170  6208277   23170   40099   28220   89072   28900   \n",
       "\n",
       "   A11901  N11902   A11902  \n",
       "0   51444  711580  1831661  \n",
       "1  110889  416090  1173463  \n",
       "2  143060  195130   543284  \n",
       "3  128920  117410   381329  \n",
       "4  423629  126130   506526  \n",
       "5  825381   17350   254122  \n",
       "\n",
       "[6 rows x 147 columns]"
      ]
     },
     "execution_count": 7,
     "metadata": {},
     "output_type": "execute_result"
    }
   ],
   "source": [
    "df.loc[df['zipcode']==0]"
   ]
  },
  {
   "cell_type": "code",
   "execution_count": 8,
   "id": "4af42af6",
   "metadata": {},
   "outputs": [
    {
     "data": {
      "text/plain": [
       "0.001999333555481506"
      ]
     },
     "execution_count": 8,
     "metadata": {},
     "output_type": "execute_result"
    }
   ],
   "source": [
    "6/3001"
   ]
  },
  {
   "cell_type": "code",
   "execution_count": 9,
   "id": "98a40994",
   "metadata": {},
   "outputs": [
    {
     "data": {
      "text/plain": [
       "{\n",
       "  \"meta\": {},\n",
       "  \"success\": true,\n",
       "  \"exception_info\": {\n",
       "    \"raised_exception\": false,\n",
       "    \"exception_traceback\": null,\n",
       "    \"exception_message\": null\n",
       "  },\n",
       "  \"result\": {\n",
       "    \"element_count\": 3001,\n",
       "    \"missing_count\": 0,\n",
       "    \"missing_percent\": 0.0,\n",
       "    \"unexpected_count\": 2995,\n",
       "    \"unexpected_percent\": 99.80006664445185,\n",
       "    \"unexpected_percent_total\": 99.80006664445185,\n",
       "    \"unexpected_percent_nonmissing\": 99.80006664445185,\n",
       "    \"partial_unexpected_list\": [\n",
       "      35004,\n",
       "      35004,\n",
       "      35004,\n",
       "      35004,\n",
       "      35004,\n",
       "      35004,\n",
       "      35005,\n",
       "      35005,\n",
       "      35005,\n",
       "      35005,\n",
       "      35005,\n",
       "      35005,\n",
       "      35006,\n",
       "      35006,\n",
       "      35006,\n",
       "      35006,\n",
       "      35006,\n",
       "      35006,\n",
       "      35007,\n",
       "      35007\n",
       "    ]\n",
       "  }\n",
       "}"
      ]
     },
     "execution_count": 9,
     "metadata": {},
     "output_type": "execute_result"
    }
   ],
   "source": [
    "df.expect_column_values_to_be_in_set('zipcode', [0], .001)"
   ]
  },
  {
   "cell_type": "markdown",
   "id": "aea83864",
   "metadata": {},
   "source": [
    "``expect_column_to_exist`` mars columns"
   ]
  },
  {
   "cell_type": "code",
   "execution_count": 12,
   "id": "b9b0ea4f",
   "metadata": {},
   "outputs": [
    {
     "data": {
      "text/plain": [
       "{\n",
       "  \"meta\": {},\n",
       "  \"success\": true,\n",
       "  \"exception_info\": {\n",
       "    \"raised_exception\": false,\n",
       "    \"exception_traceback\": null,\n",
       "    \"exception_message\": null\n",
       "  },\n",
       "  \"result\": {}\n",
       "}"
      ]
     },
     "execution_count": 12,
     "metadata": {},
     "output_type": "execute_result"
    }
   ],
   "source": [
    "df.expect_column_to_exist(column='mars1')"
   ]
  },
  {
   "attachments": {},
   "cell_type": "markdown",
   "id": "ee07d979",
   "metadata": {},
   "source": [
    "### Obtendo as Expectativas"
   ]
  },
  {
   "cell_type": "code",
   "execution_count": 13,
   "id": "d4179bd6",
   "metadata": {},
   "outputs": [
    {
     "data": {
      "text/plain": [
       "{\n",
       "  \"ge_cloud_id\": null,\n",
       "  \"meta\": {\n",
       "    \"great_expectations_version\": \"0.16.3\"\n",
       "  },\n",
       "  \"expectation_suite_name\": \"default\",\n",
       "  \"expectations\": [\n",
       "    {\n",
       "      \"meta\": {},\n",
       "      \"kwargs\": {\n",
       "        \"column\": \"agi_stub\",\n",
       "        \"value_set\": [\n",
       "          1,\n",
       "          2,\n",
       "          3,\n",
       "          4\n",
       "        ],\n",
       "        \"mostly\": 0.66\n",
       "      },\n",
       "      \"expectation_type\": \"expect_column_values_to_be_in_set\"\n",
       "    },\n",
       "    {\n",
       "      \"meta\": {},\n",
       "      \"kwargs\": {\n",
       "        \"column\": \"zipcode\",\n",
       "        \"value_set\": [\n",
       "          0\n",
       "        ],\n",
       "        \"mostly\": 0.001\n",
       "      },\n",
       "      \"expectation_type\": \"expect_column_values_to_be_in_set\"\n",
       "    },\n",
       "    {\n",
       "      \"meta\": {},\n",
       "      \"kwargs\": {\n",
       "        \"column\": \"mars1\"\n",
       "      },\n",
       "      \"expectation_type\": \"expect_column_to_exist\"\n",
       "    }\n",
       "  ],\n",
       "  \"data_asset_type\": \"Dataset\"\n",
       "}"
      ]
     },
     "execution_count": 13,
     "metadata": {},
     "output_type": "execute_result"
    }
   ],
   "source": [
    "df.get_expectation_suite()"
   ]
  },
  {
   "cell_type": "markdown",
   "id": "948c5a32",
   "metadata": {},
   "source": [
    "Por padrão, ``get_expectation_suite()`` retorna apenas Expectations com ``success=True``. \n",
    "\n",
    "Você pode substituir esse comportamento com:"
   ]
  },
  {
   "cell_type": "code",
   "execution_count": 14,
   "id": "c3991391",
   "metadata": {},
   "outputs": [
    {
     "data": {
      "text/plain": [
       "{\n",
       "  \"ge_cloud_id\": null,\n",
       "  \"meta\": {\n",
       "    \"great_expectations_version\": \"0.16.3\"\n",
       "  },\n",
       "  \"expectation_suite_name\": \"default\",\n",
       "  \"expectations\": [\n",
       "    {\n",
       "      \"meta\": {},\n",
       "      \"kwargs\": {\n",
       "        \"column\": \"agi_stub\",\n",
       "        \"value_set\": [\n",
       "          1,\n",
       "          2,\n",
       "          3,\n",
       "          4\n",
       "        ],\n",
       "        \"mostly\": 0.66\n",
       "      },\n",
       "      \"expectation_type\": \"expect_column_values_to_be_in_set\"\n",
       "    },\n",
       "    {\n",
       "      \"meta\": {},\n",
       "      \"kwargs\": {\n",
       "        \"column\": \"zipcode\",\n",
       "        \"value_set\": [\n",
       "          0\n",
       "        ],\n",
       "        \"mostly\": 0.001\n",
       "      },\n",
       "      \"expectation_type\": \"expect_column_values_to_be_in_set\"\n",
       "    },\n",
       "    {\n",
       "      \"meta\": {},\n",
       "      \"kwargs\": {\n",
       "        \"column\": \"mars1\"\n",
       "      },\n",
       "      \"expectation_type\": \"expect_column_to_exist\"\n",
       "    },\n",
       "    {\n",
       "      \"meta\": {},\n",
       "      \"kwargs\": {\n",
       "        \"column\": \"mars3\"\n",
       "      },\n",
       "      \"expectation_type\": \"expect_column_to_exist\"\n",
       "    }\n",
       "  ],\n",
       "  \"data_asset_type\": \"Dataset\"\n",
       "}"
      ]
     },
     "execution_count": 14,
     "metadata": {},
     "output_type": "execute_result"
    }
   ],
   "source": [
    "df.get_expectation_suite(discard_failed_expectations=False)"
   ]
  },
  {
   "cell_type": "markdown",
   "id": "1a934559",
   "metadata": {},
   "source": [
    "### Salve sua suíte Expectation"
   ]
  },
  {
   "cell_type": "code",
   "execution_count": 17,
   "id": "bb31e1eb",
   "metadata": {},
   "outputs": [],
   "source": [
    "import os\n",
    "import json"
   ]
  },
  {
   "cell_type": "code",
   "execution_count": 16,
   "id": "2c5c6c36",
   "metadata": {},
   "outputs": [],
   "source": [
    "aula_5_results_path = 'dados/aula_5'\n",
    "os.makedirs(aula_5_results_path, exist_ok=True)"
   ]
  },
  {
   "cell_type": "code",
   "execution_count": 18,
   "id": "f247004f",
   "metadata": {},
   "outputs": [],
   "source": [
    "with open(f\"{aula_5_results_path}/expectiation.json\", \"w\") as my_file:\n",
    "    my_file.write(\n",
    "        json.dumps(df.get_expectation_suite(discard_failed_expectations=False).to_json_dict())\n",
    "    )"
   ]
  }
 ],
 "metadata": {
  "kernelspec": {
   "display_name": "Python 3",
   "language": "python",
   "name": "python3"
  },
  "language_info": {
   "codemirror_mode": {
    "name": "ipython",
    "version": 3
   },
   "file_extension": ".py",
   "mimetype": "text/x-python",
   "name": "python",
   "nbconvert_exporter": "python",
   "pygments_lexer": "ipython3",
   "version": "3.10.10"
  }
 },
 "nbformat": 4,
 "nbformat_minor": 5
}
