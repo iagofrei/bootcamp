{
 "cells": [
  {
   "cell_type": "markdown",
   "id": "b1b3d390",
   "metadata": {},
   "source": [
    "# Great Expectations"
   ]
  },
  {
   "cell_type": "markdown",
   "id": "dba67d1a",
   "metadata": {},
   "source": [
    "## Instalando"
   ]
  },
  {
   "cell_type": "code",
   "execution_count": null,
   "id": "bd789c3e",
   "metadata": {},
   "outputs": [],
   "source": [
    "# !pip install --upgrade pandas==1.5.1\n",
    "# !pip install great_expectations==0.16.3"
   ]
  },
  {
   "cell_type": "markdown",
   "id": "c54a39cc",
   "metadata": {},
   "source": [
    "## Validando os dados"
   ]
  },
  {
   "cell_type": "markdown",
   "id": "71d88fa1",
   "metadata": {},
   "source": [
    "Validamos o conjunto de dados com a suíte de expectativas. \n",
    "\n",
    "Em seguida, verificamos se a validação foi bem-sucedida verificando o atributo success do objeto ExpectationValidationResult"
   ]
  },
  {
   "cell_type": "markdown",
   "id": "7595c92e",
   "metadata": {},
   "source": [
    "### Validação de valores únicos em uma coluna"
   ]
  },
  {
   "cell_type": "code",
   "execution_count": 2,
   "id": "33a43651",
   "metadata": {},
   "outputs": [],
   "source": [
    "import great_expectations as gx\n",
    "import pandas as pd"
   ]
  },
  {
   "cell_type": "code",
   "execution_count": 3,
   "id": "21cbe118",
   "metadata": {},
   "outputs": [
    {
     "data": {
      "text/html": [
       "<div>\n",
       "<style scoped>\n",
       "    .dataframe tbody tr th:only-of-type {\n",
       "        vertical-align: middle;\n",
       "    }\n",
       "\n",
       "    .dataframe tbody tr th {\n",
       "        vertical-align: top;\n",
       "    }\n",
       "\n",
       "    .dataframe thead th {\n",
       "        text-align: right;\n",
       "    }\n",
       "</style>\n",
       "<table border=\"1\" class=\"dataframe\">\n",
       "  <thead>\n",
       "    <tr style=\"text-align: right;\">\n",
       "      <th></th>\n",
       "      <th>nome</th>\n",
       "    </tr>\n",
       "  </thead>\n",
       "  <tbody>\n",
       "    <tr>\n",
       "      <th>0</th>\n",
       "      <td>João</td>\n",
       "    </tr>\n",
       "    <tr>\n",
       "      <th>1</th>\n",
       "      <td>Maria</td>\n",
       "    </tr>\n",
       "    <tr>\n",
       "      <th>2</th>\n",
       "      <td>Joaquim</td>\n",
       "    </tr>\n",
       "    <tr>\n",
       "      <th>3</th>\n",
       "      <td>Pedro</td>\n",
       "    </tr>\n",
       "    <tr>\n",
       "      <th>4</th>\n",
       "      <td>Ana</td>\n",
       "    </tr>\n",
       "  </tbody>\n",
       "</table>\n",
       "</div>"
      ],
      "text/plain": [
       "      nome\n",
       "0     João\n",
       "1    Maria\n",
       "2  Joaquim\n",
       "3    Pedro\n",
       "4      Ana"
      ]
     },
     "execution_count": 3,
     "metadata": {},
     "output_type": "execute_result"
    }
   ],
   "source": [
    "df = pd.DataFrame({'nome': ['João', 'Maria', 'Joaquim', 'Pedro', 'Ana']})\n",
    "df"
   ]
  },
  {
   "cell_type": "markdown",
   "id": "cbeb1b3d",
   "metadata": {},
   "source": [
    "Crie uma expectation que verifica se a coluna \"codigo\" contém apenas valores únicos.\n",
    "\n",
    "Use a função ``expect_column_values_to_be_unique`` para definir essa expectativa"
   ]
  },
  {
   "cell_type": "code",
   "execution_count": 4,
   "id": "5242cd96",
   "metadata": {},
   "outputs": [
    {
     "data": {
      "text/html": [
       "<div>\n",
       "<style scoped>\n",
       "    .dataframe tbody tr th:only-of-type {\n",
       "        vertical-align: middle;\n",
       "    }\n",
       "\n",
       "    .dataframe tbody tr th {\n",
       "        vertical-align: top;\n",
       "    }\n",
       "\n",
       "    .dataframe thead th {\n",
       "        text-align: right;\n",
       "    }\n",
       "</style>\n",
       "<table border=\"1\" class=\"dataframe\">\n",
       "  <thead>\n",
       "    <tr style=\"text-align: right;\">\n",
       "      <th></th>\n",
       "      <th>nome</th>\n",
       "    </tr>\n",
       "  </thead>\n",
       "  <tbody>\n",
       "    <tr>\n",
       "      <th>0</th>\n",
       "      <td>João</td>\n",
       "    </tr>\n",
       "    <tr>\n",
       "      <th>1</th>\n",
       "      <td>Maria</td>\n",
       "    </tr>\n",
       "    <tr>\n",
       "      <th>2</th>\n",
       "      <td>Joaquim</td>\n",
       "    </tr>\n",
       "    <tr>\n",
       "      <th>3</th>\n",
       "      <td>Pedro</td>\n",
       "    </tr>\n",
       "    <tr>\n",
       "      <th>4</th>\n",
       "      <td>Ana</td>\n",
       "    </tr>\n",
       "  </tbody>\n",
       "</table>\n",
       "</div>"
      ],
      "text/plain": [
       "      nome\n",
       "0     João\n",
       "1    Maria\n",
       "2  Joaquim\n",
       "3    Pedro\n",
       "4      Ana"
      ]
     },
     "execution_count": 4,
     "metadata": {},
     "output_type": "execute_result"
    }
   ],
   "source": [
    "df_gx = gx.dataset.PandasDataset(df)\n",
    "df_gx"
   ]
  },
  {
   "cell_type": "code",
   "execution_count": 5,
   "id": "1128e317",
   "metadata": {},
   "outputs": [
    {
     "data": {
      "text/plain": [
       "{\n",
       "  \"exception_info\": {\n",
       "    \"raised_exception\": false,\n",
       "    \"exception_traceback\": null,\n",
       "    \"exception_message\": null\n",
       "  },\n",
       "  \"meta\": {},\n",
       "  \"result\": {\n",
       "    \"element_count\": 5,\n",
       "    \"missing_count\": 0,\n",
       "    \"missing_percent\": 0.0,\n",
       "    \"unexpected_count\": 0,\n",
       "    \"unexpected_percent\": 0.0,\n",
       "    \"unexpected_percent_total\": 0.0,\n",
       "    \"unexpected_percent_nonmissing\": 0.0,\n",
       "    \"partial_unexpected_list\": []\n",
       "  },\n",
       "  \"success\": true\n",
       "}"
      ]
     },
     "execution_count": 5,
     "metadata": {},
     "output_type": "execute_result"
    }
   ],
   "source": [
    "validation_result = df_gx.expect_column_values_to_be_unique(column= 'nome')\n",
    "validation_result"
   ]
  },
  {
   "cell_type": "code",
   "execution_count": 8,
   "id": "195475a2",
   "metadata": {},
   "outputs": [
    {
     "name": "stdout",
     "output_type": "stream",
     "text": [
      "A coluna nome contem apenas valores únicos\n"
     ]
    }
   ],
   "source": [
    "if validation_result['success']:\n",
    "    print('A coluna nome contem apenas valores únicos')\n",
    "else:\n",
    "    print('A coluna nome possui valores duplicados')\n"
   ]
  },
  {
   "cell_type": "code",
   "execution_count": 9,
   "id": "fe57898b",
   "metadata": {},
   "outputs": [
    {
     "data": {
      "text/html": [
       "<div>\n",
       "<style scoped>\n",
       "    .dataframe tbody tr th:only-of-type {\n",
       "        vertical-align: middle;\n",
       "    }\n",
       "\n",
       "    .dataframe tbody tr th {\n",
       "        vertical-align: top;\n",
       "    }\n",
       "\n",
       "    .dataframe thead th {\n",
       "        text-align: right;\n",
       "    }\n",
       "</style>\n",
       "<table border=\"1\" class=\"dataframe\">\n",
       "  <thead>\n",
       "    <tr style=\"text-align: right;\">\n",
       "      <th></th>\n",
       "      <th>codigo</th>\n",
       "    </tr>\n",
       "  </thead>\n",
       "  <tbody>\n",
       "    <tr>\n",
       "      <th>0</th>\n",
       "      <td>1001</td>\n",
       "    </tr>\n",
       "    <tr>\n",
       "      <th>1</th>\n",
       "      <td>1002</td>\n",
       "    </tr>\n",
       "    <tr>\n",
       "      <th>2</th>\n",
       "      <td>1003</td>\n",
       "    </tr>\n",
       "    <tr>\n",
       "      <th>3</th>\n",
       "      <td>1006</td>\n",
       "    </tr>\n",
       "    <tr>\n",
       "      <th>4</th>\n",
       "      <td>1001</td>\n",
       "    </tr>\n",
       "    <tr>\n",
       "      <th>5</th>\n",
       "      <td>1005</td>\n",
       "    </tr>\n",
       "    <tr>\n",
       "      <th>6</th>\n",
       "      <td>1002</td>\n",
       "    </tr>\n",
       "  </tbody>\n",
       "</table>\n",
       "</div>"
      ],
      "text/plain": [
       "  codigo\n",
       "0   1001\n",
       "1   1002\n",
       "2   1003\n",
       "3   1006\n",
       "4   1001\n",
       "5   1005\n",
       "6   1002"
      ]
     },
     "execution_count": 9,
     "metadata": {},
     "output_type": "execute_result"
    }
   ],
   "source": [
    "df2 = pd.DataFrame({'codigo': ['1001', '1002', '1003', '1006', '1001', '1005', '1002']})\n",
    "df_gx2 = gx.dataset.PandasDataset(df2)\n",
    "df_gx2"
   ]
  },
  {
   "cell_type": "code",
   "execution_count": 10,
   "id": "3ffb5af0",
   "metadata": {},
   "outputs": [
    {
     "data": {
      "text/plain": [
       "{\n",
       "  \"exception_info\": {\n",
       "    \"raised_exception\": false,\n",
       "    \"exception_traceback\": null,\n",
       "    \"exception_message\": null\n",
       "  },\n",
       "  \"meta\": {},\n",
       "  \"result\": {\n",
       "    \"element_count\": 7,\n",
       "    \"missing_count\": 0,\n",
       "    \"missing_percent\": 0.0,\n",
       "    \"unexpected_count\": 4,\n",
       "    \"unexpected_percent\": 57.14285714285714,\n",
       "    \"unexpected_percent_total\": 57.14285714285714,\n",
       "    \"unexpected_percent_nonmissing\": 57.14285714285714,\n",
       "    \"partial_unexpected_list\": [\n",
       "      \"1001\",\n",
       "      \"1002\",\n",
       "      \"1001\",\n",
       "      \"1002\"\n",
       "    ]\n",
       "  },\n",
       "  \"success\": false\n",
       "}"
      ]
     },
     "execution_count": 10,
     "metadata": {},
     "output_type": "execute_result"
    }
   ],
   "source": [
    "validation_result2 = df_gx2.expect_column_values_to_be_unique(column= 'codigo')\n",
    "validation_result2"
   ]
  },
  {
   "cell_type": "code",
   "execution_count": 12,
   "id": "4d186f72",
   "metadata": {},
   "outputs": [
    {
     "name": "stdout",
     "output_type": "stream",
     "text": [
      "A coluna codigo possui valores duplicados\n"
     ]
    }
   ],
   "source": [
    "if validation_result2['success']:\n",
    "    print('A coluna codigo contem apenas valores únicos')\n",
    "else:\n",
    "    print('A coluna codigo possui valores duplicados')"
   ]
  },
  {
   "cell_type": "markdown",
   "id": "3530a20b",
   "metadata": {},
   "source": [
    "### Validação de valores mínimos e máximos em uma coluna numérica\n",
    "\n",
    "Use a função ``expect_column_values_to_be_between`` para verificar se a coluna \"idade\" contém apenas valores entre 18 e 65 anos.\n",
    "\n",
    "Passamos os valores mínimo e máximo permitidos como argumentos. Em seguida, validamos o conjunto de dados com a suíte de expectativas e verificamos se a validação foi bem-sucedida.\n"
   ]
  },
  {
   "cell_type": "code",
   "execution_count": 15,
   "id": "de1f6bf7",
   "metadata": {},
   "outputs": [
    {
     "data": {
      "text/html": [
       "<div>\n",
       "<style scoped>\n",
       "    .dataframe tbody tr th:only-of-type {\n",
       "        vertical-align: middle;\n",
       "    }\n",
       "\n",
       "    .dataframe tbody tr th {\n",
       "        vertical-align: top;\n",
       "    }\n",
       "\n",
       "    .dataframe thead th {\n",
       "        text-align: right;\n",
       "    }\n",
       "</style>\n",
       "<table border=\"1\" class=\"dataframe\">\n",
       "  <thead>\n",
       "    <tr style=\"text-align: right;\">\n",
       "      <th></th>\n",
       "      <th>idade</th>\n",
       "    </tr>\n",
       "  </thead>\n",
       "  <tbody>\n",
       "    <tr>\n",
       "      <th>0</th>\n",
       "      <td>15</td>\n",
       "    </tr>\n",
       "    <tr>\n",
       "      <th>1</th>\n",
       "      <td>10</td>\n",
       "    </tr>\n",
       "    <tr>\n",
       "      <th>2</th>\n",
       "      <td>18</td>\n",
       "    </tr>\n",
       "    <tr>\n",
       "      <th>3</th>\n",
       "      <td>20</td>\n",
       "    </tr>\n",
       "    <tr>\n",
       "      <th>4</th>\n",
       "      <td>25</td>\n",
       "    </tr>\n",
       "    <tr>\n",
       "      <th>5</th>\n",
       "      <td>30</td>\n",
       "    </tr>\n",
       "    <tr>\n",
       "      <th>6</th>\n",
       "      <td>35</td>\n",
       "    </tr>\n",
       "    <tr>\n",
       "      <th>7</th>\n",
       "      <td>40</td>\n",
       "    </tr>\n",
       "    <tr>\n",
       "      <th>8</th>\n",
       "      <td>45</td>\n",
       "    </tr>\n",
       "    <tr>\n",
       "      <th>9</th>\n",
       "      <td>50</td>\n",
       "    </tr>\n",
       "    <tr>\n",
       "      <th>10</th>\n",
       "      <td>55</td>\n",
       "    </tr>\n",
       "    <tr>\n",
       "      <th>11</th>\n",
       "      <td>60</td>\n",
       "    </tr>\n",
       "    <tr>\n",
       "      <th>12</th>\n",
       "      <td>65</td>\n",
       "    </tr>\n",
       "    <tr>\n",
       "      <th>13</th>\n",
       "      <td>70</td>\n",
       "    </tr>\n",
       "    <tr>\n",
       "      <th>14</th>\n",
       "      <td>75</td>\n",
       "    </tr>\n",
       "    <tr>\n",
       "      <th>15</th>\n",
       "      <td>80</td>\n",
       "    </tr>\n",
       "    <tr>\n",
       "      <th>16</th>\n",
       "      <td>85</td>\n",
       "    </tr>\n",
       "    <tr>\n",
       "      <th>17</th>\n",
       "      <td>90</td>\n",
       "    </tr>\n",
       "    <tr>\n",
       "      <th>18</th>\n",
       "      <td>95</td>\n",
       "    </tr>\n",
       "    <tr>\n",
       "      <th>19</th>\n",
       "      <td>100</td>\n",
       "    </tr>\n",
       "    <tr>\n",
       "      <th>20</th>\n",
       "      <td>105</td>\n",
       "    </tr>\n",
       "  </tbody>\n",
       "</table>\n",
       "</div>"
      ],
      "text/plain": [
       "    idade\n",
       "0      15\n",
       "1      10\n",
       "2      18\n",
       "3      20\n",
       "4      25\n",
       "5      30\n",
       "6      35\n",
       "7      40\n",
       "8      45\n",
       "9      50\n",
       "10     55\n",
       "11     60\n",
       "12     65\n",
       "13     70\n",
       "14     75\n",
       "15     80\n",
       "16     85\n",
       "17     90\n",
       "18     95\n",
       "19    100\n",
       "20    105"
      ]
     },
     "execution_count": 15,
     "metadata": {},
     "output_type": "execute_result"
    }
   ],
   "source": [
    "df3 = pd.DataFrame({'idade': [15, 10, 18, 20, 25, 30, 35, 40, 45, 50, 55, 60, 65, 70, 75, 80, 85, 90, 95, 100, 105]})\n",
    "df_gx3 = gx.dataset.PandasDataset(df3)\n",
    "df_gx3"
   ]
  },
  {
   "cell_type": "code",
   "execution_count": 16,
   "id": "5bf995eb",
   "metadata": {},
   "outputs": [
    {
     "data": {
      "text/plain": [
       "{\n",
       "  \"exception_info\": {\n",
       "    \"raised_exception\": false,\n",
       "    \"exception_traceback\": null,\n",
       "    \"exception_message\": null\n",
       "  },\n",
       "  \"meta\": {},\n",
       "  \"result\": {\n",
       "    \"element_count\": 21,\n",
       "    \"missing_count\": 0,\n",
       "    \"missing_percent\": 0.0,\n",
       "    \"unexpected_count\": 10,\n",
       "    \"unexpected_percent\": 47.61904761904761,\n",
       "    \"unexpected_percent_total\": 47.61904761904761,\n",
       "    \"unexpected_percent_nonmissing\": 47.61904761904761,\n",
       "    \"partial_unexpected_list\": [\n",
       "      15,\n",
       "      10,\n",
       "      70,\n",
       "      75,\n",
       "      80,\n",
       "      85,\n",
       "      90,\n",
       "      95,\n",
       "      100,\n",
       "      105\n",
       "    ]\n",
       "  },\n",
       "  \"success\": false\n",
       "}"
      ]
     },
     "execution_count": 16,
     "metadata": {},
     "output_type": "execute_result"
    }
   ],
   "source": [
    "result = df_gx3.expect_column_values_to_be_between(column= 'idade', min_value=18, max_value=65)\n",
    "result"
   ]
  },
  {
   "cell_type": "markdown",
   "id": "c3375e10",
   "metadata": {},
   "source": [
    "### Validação de formatos de data em uma coluna"
   ]
  },
  {
   "cell_type": "code",
   "execution_count": 17,
   "id": "9176dd2b",
   "metadata": {},
   "outputs": [],
   "source": [
    "df4 = pd.DataFrame({'data':['2022-02-02', '2022-01-02', '2022-01-04', '2022-13-04', '2022-01-05']})\n",
    "df_gx4 = gx.dataset.PandasDataset(df4)"
   ]
  },
  {
   "cell_type": "code",
   "execution_count": 18,
   "id": "24da42aa",
   "metadata": {},
   "outputs": [
    {
     "data": {
      "text/plain": [
       "{\n",
       "  \"exception_info\": {\n",
       "    \"raised_exception\": false,\n",
       "    \"exception_traceback\": null,\n",
       "    \"exception_message\": null\n",
       "  },\n",
       "  \"meta\": {},\n",
       "  \"result\": {\n",
       "    \"element_count\": 5,\n",
       "    \"missing_count\": 0,\n",
       "    \"missing_percent\": 0.0,\n",
       "    \"unexpected_count\": 1,\n",
       "    \"unexpected_percent\": 20.0,\n",
       "    \"unexpected_percent_total\": 20.0,\n",
       "    \"unexpected_percent_nonmissing\": 20.0,\n",
       "    \"partial_unexpected_list\": [\n",
       "      \"2022-13-04\"\n",
       "    ]\n",
       "  },\n",
       "  \"success\": false\n",
       "}"
      ]
     },
     "execution_count": 18,
     "metadata": {},
     "output_type": "execute_result"
    }
   ],
   "source": [
    "valida_data = df_gx4.expect_column_values_to_match_strftime_format(column='data', strftime_format=\"%Y-%m-%d\")\n",
    "valida_data"
   ]
  },
  {
   "cell_type": "markdown",
   "id": "6bcfcf0d",
   "metadata": {},
   "source": [
    "### Validação de valores nulos em uma coluna\n",
    "\n",
    "Criaremos uma Expectation que verifica se a coluna \"salario\" não contém valores nulos"
   ]
  },
  {
   "cell_type": "code",
   "execution_count": 20,
   "id": "e9322e0a",
   "metadata": {},
   "outputs": [],
   "source": [
    "df5 = pd.DataFrame({'salario': [2000, 2500, 3000, None, 4000, 4500]})\n",
    "df_gx5 = gx.dataset.PandasDataset(df5)"
   ]
  },
  {
   "cell_type": "code",
   "execution_count": 21,
   "id": "6fc1044d",
   "metadata": {},
   "outputs": [
    {
     "data": {
      "text/plain": [
       "{\n",
       "  \"exception_info\": {\n",
       "    \"raised_exception\": false,\n",
       "    \"exception_traceback\": null,\n",
       "    \"exception_message\": null\n",
       "  },\n",
       "  \"meta\": {},\n",
       "  \"result\": {\n",
       "    \"element_count\": 6,\n",
       "    \"unexpected_count\": 5,\n",
       "    \"unexpected_percent\": 83.33333333333334,\n",
       "    \"unexpected_percent_total\": 83.33333333333334,\n",
       "    \"partial_unexpected_list\": []\n",
       "  },\n",
       "  \"success\": false\n",
       "}"
      ]
     },
     "execution_count": 21,
     "metadata": {},
     "output_type": "execute_result"
    }
   ],
   "source": [
    "results2 = df_gx5.expect_column_values_to_be_null(column='salario')\n",
    "results2"
   ]
  },
  {
   "cell_type": "markdown",
   "id": "d203fb8f",
   "metadata": {},
   "source": [
    "### Validação de formatos de string em uma coluna (cpf)\n",
    "\n",
    "Vamos criar uma Expectation que verifica se a coluna \"cpf\" contém apenas CPFs no formato 'XXX.XXX.XXX-XX'. \n",
    "\n",
    "Usaremos a função ``expect_column_values_to_match_regex`` para definir essa expectativa.\n",
    "\n",
    "Para entender o regex você pode utilizar o site: https://regexr.com/3cr6f."
   ]
  },
  {
   "cell_type": "code",
   "execution_count": 22,
   "id": "05ed4c58",
   "metadata": {},
   "outputs": [],
   "source": [
    "df6 = pd.DataFrame({'cpf':['123.456.789-10', '234.345.567.09', '345-578-908.96', '647.456.778-04']})\n",
    "df_gx6 = gx.dataset.PandasDataset(df6)"
   ]
  },
  {
   "cell_type": "code",
   "execution_count": 23,
   "id": "e5e2d630",
   "metadata": {},
   "outputs": [
    {
     "data": {
      "text/plain": [
       "{\n",
       "  \"exception_info\": {\n",
       "    \"raised_exception\": false,\n",
       "    \"exception_traceback\": null,\n",
       "    \"exception_message\": null\n",
       "  },\n",
       "  \"meta\": {},\n",
       "  \"result\": {\n",
       "    \"element_count\": 4,\n",
       "    \"missing_count\": 0,\n",
       "    \"missing_percent\": 0.0,\n",
       "    \"unexpected_count\": 2,\n",
       "    \"unexpected_percent\": 50.0,\n",
       "    \"unexpected_percent_total\": 50.0,\n",
       "    \"unexpected_percent_nonmissing\": 50.0,\n",
       "    \"partial_unexpected_list\": [\n",
       "      \"234.345.567.09\",\n",
       "      \"345-578-908.96\"\n",
       "    ]\n",
       "  },\n",
       "  \"success\": false\n",
       "}"
      ]
     },
     "execution_count": 23,
     "metadata": {},
     "output_type": "execute_result"
    }
   ],
   "source": [
    "results3 = df_gx6.expect_column_values_to_match_regex(column='cpf', regex='^(\\d{3}\\.\\d{3}\\.\\d{3}\\-\\d{2})$')\n",
    "results3"
   ]
  },
  {
   "cell_type": "markdown",
   "id": "20106dee",
   "metadata": {},
   "source": [
    "### Validação de formatos de string em uma coluna (email)\n",
    "\n",
    "Vamos criar uma Expectation que verifica se a coluna \"email\" tem um formato esperado.\n",
    "\n",
    "Usaremos a função ``expect_column_values_to_match_regex`` para definir essa expectativa.\n",
    "\n",
    "Para entender o regex você pode utilizar o site: https://regexr.com/3cr6f.\n",
    "\n",
    "Email regex: https://pt.stackoverflow.com/a/276022."
   ]
  },
  {
   "cell_type": "code",
   "execution_count": null,
   "id": "3d858f1d",
   "metadata": {},
   "outputs": [],
   "source": []
  },
  {
   "cell_type": "markdown",
   "id": "86bd6d5a",
   "metadata": {},
   "source": [
    "### Validação de contagem de valores em uma coluna\n",
    "\n",
    "\n",
    "Vamos criar um dataframe com uma coluna \"cidade\" e usar a função ``expect_column_unique_value_count_to_be_between`` para definir se a coluna \"cidade\" contém pelo menos 3 ocorrências de cada cidade. \n",
    "\n",
    "Em seguida, passamos um dicionário com os valores esperados de cada cidade e um valor mínimo e máximo de ocorrências permitidas. "
   ]
  },
  {
   "cell_type": "code",
   "execution_count": null,
   "id": "10ed1275",
   "metadata": {},
   "outputs": [],
   "source": []
  },
  {
   "cell_type": "markdown",
   "id": "cb403562",
   "metadata": {},
   "source": [
    "## Expectativas para us_tax_data_2016"
   ]
  },
  {
   "cell_type": "code",
   "execution_count": null,
   "id": "c567d520",
   "metadata": {},
   "outputs": [],
   "source": []
  },
  {
   "cell_type": "markdown",
   "id": "61e7241e",
   "metadata": {},
   "source": [
    "### Definindo expectativas dos dados us_tax_data_2016"
   ]
  },
  {
   "cell_type": "markdown",
   "id": "a7ccd621",
   "metadata": {},
   "source": [
    "``expect_column_values_to_be_in_set`` agi_stub"
   ]
  },
  {
   "cell_type": "code",
   "execution_count": null,
   "id": "40f986a5",
   "metadata": {},
   "outputs": [],
   "source": []
  },
  {
   "cell_type": "markdown",
   "id": "70d04d40",
   "metadata": {},
   "source": [
    "``expect_column_values_to_be_in_set`` zip code zeros"
   ]
  },
  {
   "cell_type": "code",
   "execution_count": null,
   "id": "d92c3948",
   "metadata": {},
   "outputs": [],
   "source": []
  },
  {
   "cell_type": "markdown",
   "id": "aea83864",
   "metadata": {},
   "source": [
    "``expect_column_to_exist`` mars columns"
   ]
  },
  {
   "cell_type": "code",
   "execution_count": null,
   "id": "b9b0ea4f",
   "metadata": {},
   "outputs": [],
   "source": []
  },
  {
   "attachments": {},
   "cell_type": "markdown",
   "id": "ee07d979",
   "metadata": {},
   "source": [
    "### Obtendo as Expectativas"
   ]
  },
  {
   "cell_type": "code",
   "execution_count": null,
   "id": "d4179bd6",
   "metadata": {},
   "outputs": [],
   "source": []
  },
  {
   "cell_type": "markdown",
   "id": "948c5a32",
   "metadata": {},
   "source": [
    "Por padrão, ``get_expectation_suite()`` retorna apenas Expectations com ``success=True``. \n",
    "\n",
    "Você pode substituir esse comportamento com:"
   ]
  },
  {
   "cell_type": "code",
   "execution_count": null,
   "id": "c3991391",
   "metadata": {},
   "outputs": [],
   "source": []
  },
  {
   "cell_type": "markdown",
   "id": "1a934559",
   "metadata": {},
   "source": [
    "### Salve sua suíte Expectation"
   ]
  },
  {
   "cell_type": "code",
   "execution_count": null,
   "id": "bb31e1eb",
   "metadata": {},
   "outputs": [],
   "source": []
  }
 ],
 "metadata": {
  "kernelspec": {
   "display_name": "Python 3",
   "language": "python",
   "name": "python3"
  },
  "language_info": {
   "codemirror_mode": {
    "name": "ipython",
    "version": 3
   },
   "file_extension": ".py",
   "mimetype": "text/x-python",
   "name": "python",
   "nbconvert_exporter": "python",
   "pygments_lexer": "ipython3",
   "version": "3.10.10"
  }
 },
 "nbformat": 4,
 "nbformat_minor": 5
}
